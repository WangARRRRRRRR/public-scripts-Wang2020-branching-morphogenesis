{
 "cells": [
  {
   "cell_type": "code",
   "execution_count": 1,
   "metadata": {},
   "outputs": [
    {
     "name": "stdout",
     "output_type": "stream",
     "text": [
      "mkdir: ../jupyter_figures: File exists\n",
      "mkdir: ../data_cleaned: File exists\n"
     ]
    }
   ],
   "source": [
    "import sys, os, glob\n",
    "import numpy as np\n",
    "import pandas as pd\n",
    "import matplotlib\n",
    "import matplotlib.pyplot as plt\n",
    "import seaborn as sns\n",
    "import logging\n",
    "from scipy.interpolate import UnivariateSpline, interp1d\n",
    "from statsmodels.stats.multicomp import pairwise_tukeyhsd, MultiComparison\n",
    "from statsmodels.stats.libqsturng import psturng\n",
    "import scipy.stats as stats\n",
    "\n",
    "# logging.basicConfig(stream=sys.stdout, format='%(asctime)s - %(levelname)s - %(message)s', level=logging.DEBUG)\n",
    "logging.basicConfig(stream=sys.stdout, format='%(asctime)s - %(levelname)s - %(message)s', level=logging.INFO)\n",
    "\n",
    "%matplotlib inline\n",
    "font = {'family' : 'Arial',\n",
    "        'size'   : 7}\n",
    "matplotlib.rc('font', **font)\n",
    "plt.rcParams['svg.fonttype'] = 'none'\n",
    "\n",
    "# Make a folder if it is not already there to store exported figures\n",
    "!mkdir ../jupyter_figures\n",
    "\n",
    "# Make a folder to store cleaned up data frames for more advanced statistical analysis in R.\n",
    "# This is only necessary because exact p values were required by the journal, whereas the\n",
    "# psturng in statsmodels.stats.libqsturng was bound by 0.001 and 0.9.\n",
    "# Practically, nobody really cares about exact p values when p < 0.001 and p > 0.9, but got to get it when asked.\n",
    "!mkdir ../data_cleaned\n"
   ]
  },
  {
   "cell_type": "code",
   "execution_count": 29,
   "metadata": {},
   "outputs": [],
   "source": [
    "## Facility Functions ##\n",
    "\n",
    "def tukeyTest(data, groups, alpha=0.05):\n",
    "    '''Perform pairwise Tukey test for the data by groups\n",
    "    '''\n",
    "    # pairwise comparisons using Tukey's test, calculating p-values\n",
    "    res = pairwise_tukeyhsd(data, groups, alpha)\n",
    "    print('Summary of test:\\n', res)\n",
    "    # print(dir(results))# prints out all attributes of an object\n",
    "    pVal = psturng(np.abs(res.meandiffs / res.std_pairs), len(res.groupsunique), res.df_total)\n",
    "    print('p values of all pair-wise tests:\\n', pVal)\n",
    "\n",
    "    return res\n",
    "\n",
    "def change_width(ax, new_value) :\n",
    "    for patch in ax.patches :\n",
    "        current_width = patch.get_width()\n",
    "        diff = current_width - new_value\n",
    "\n",
    "        # we change the bar width\n",
    "        patch.set_width(new_value)\n",
    "\n",
    "        # we recenter the bar\n",
    "        patch.set_x(patch.get_x() + diff * .5)\n"
   ]
  },
  {
   "cell_type": "code",
   "execution_count": 295,
   "metadata": {},
   "outputs": [
    {
     "data": {
      "text/html": [
       "<div>\n",
       "<style scoped>\n",
       "    .dataframe tbody tr th:only-of-type {\n",
       "        vertical-align: middle;\n",
       "    }\n",
       "\n",
       "    .dataframe tbody tr th {\n",
       "        vertical-align: top;\n",
       "    }\n",
       "\n",
       "    .dataframe thead th {\n",
       "        text-align: right;\n",
       "    }\n",
       "</style>\n",
       "<table border=\"1\" class=\"dataframe\">\n",
       "  <thead>\n",
       "    <tr style=\"text-align: right;\">\n",
       "      <th></th>\n",
       "      <th>index</th>\n",
       "      <th>file_name</th>\n",
       "      <th>edge_category</th>\n",
       "      <th>id</th>\n",
       "      <th>Ecad_AUC</th>\n",
       "      <th>Ecad_peak_height</th>\n",
       "      <th>RFP_cell_1</th>\n",
       "      <th>RFP_cell_2</th>\n",
       "      <th>z_position</th>\n",
       "      <th>RFP_mean</th>\n",
       "    </tr>\n",
       "  </thead>\n",
       "  <tbody>\n",
       "    <tr>\n",
       "      <th>0</th>\n",
       "      <td>0</td>\n",
       "      <td>SMG2-2-FOV1-60x-retake-1024-3-rotated</td>\n",
       "      <td>High_High</td>\n",
       "      <td>1</td>\n",
       "      <td>4486.6595</td>\n",
       "      <td>0.869342</td>\n",
       "      <td>0.795802</td>\n",
       "      <td>0.808196</td>\n",
       "      <td>8</td>\n",
       "      <td>0.801999</td>\n",
       "    </tr>\n",
       "    <tr>\n",
       "      <th>1</th>\n",
       "      <td>1</td>\n",
       "      <td>SMG2-2-FOV1-60x-retake-1024-3-rotated</td>\n",
       "      <td>High_High</td>\n",
       "      <td>2</td>\n",
       "      <td>6135.7440</td>\n",
       "      <td>1.221321</td>\n",
       "      <td>1.580289</td>\n",
       "      <td>1.475370</td>\n",
       "      <td>8</td>\n",
       "      <td>1.527829</td>\n",
       "    </tr>\n",
       "    <tr>\n",
       "      <th>2</th>\n",
       "      <td>2</td>\n",
       "      <td>SMG2-2-FOV1-60x-retake-1024-3-rotated</td>\n",
       "      <td>High_High</td>\n",
       "      <td>3</td>\n",
       "      <td>6372.3150</td>\n",
       "      <td>0.754206</td>\n",
       "      <td>0.576654</td>\n",
       "      <td>0.607933</td>\n",
       "      <td>9</td>\n",
       "      <td>0.592294</td>\n",
       "    </tr>\n",
       "    <tr>\n",
       "      <th>3</th>\n",
       "      <td>3</td>\n",
       "      <td>SMG2-2-FOV1-60x-retake-1024-3-rotated</td>\n",
       "      <td>High_High</td>\n",
       "      <td>4</td>\n",
       "      <td>2535.1898</td>\n",
       "      <td>0.859864</td>\n",
       "      <td>0.919950</td>\n",
       "      <td>0.743782</td>\n",
       "      <td>8</td>\n",
       "      <td>0.831866</td>\n",
       "    </tr>\n",
       "    <tr>\n",
       "      <th>4</th>\n",
       "      <td>4</td>\n",
       "      <td>SMG2-2-FOV1-60x-retake-1024-3-rotated</td>\n",
       "      <td>High_High</td>\n",
       "      <td>5</td>\n",
       "      <td>3790.7785</td>\n",
       "      <td>0.862489</td>\n",
       "      <td>0.411583</td>\n",
       "      <td>0.411654</td>\n",
       "      <td>10</td>\n",
       "      <td>0.411618</td>\n",
       "    </tr>\n",
       "  </tbody>\n",
       "</table>\n",
       "</div>"
      ],
      "text/plain": [
       "   index                              file_name edge_category  id   Ecad_AUC  \\\n",
       "0      0  SMG2-2-FOV1-60x-retake-1024-3-rotated     High_High   1  4486.6595   \n",
       "1      1  SMG2-2-FOV1-60x-retake-1024-3-rotated     High_High   2  6135.7440   \n",
       "2      2  SMG2-2-FOV1-60x-retake-1024-3-rotated     High_High   3  6372.3150   \n",
       "3      3  SMG2-2-FOV1-60x-retake-1024-3-rotated     High_High   4  2535.1898   \n",
       "4      4  SMG2-2-FOV1-60x-retake-1024-3-rotated     High_High   5  3790.7785   \n",
       "\n",
       "   Ecad_peak_height  RFP_cell_1  RFP_cell_2  z_position  RFP_mean  \n",
       "0          0.869342    0.795802    0.808196           8  0.801999  \n",
       "1          1.221321    1.580289    1.475370           8  1.527829  \n",
       "2          0.754206    0.576654    0.607933           9  0.592294  \n",
       "3          0.859864    0.919950    0.743782           8  0.831866  \n",
       "4          0.862489    0.411583    0.411654          10  0.411618  "
      ]
     },
     "execution_count": 295,
     "metadata": {},
     "output_type": "execute_result"
    }
   ],
   "source": [
    "df = pd.read_csv('../data/Ecad-K14_RFP-correlation-measurements/E-cad-IF-for-quantification-Ecad-quantification-Summary-6353.txt')\n",
    "df1 = df\n",
    "df = pd.read_csv('../data/Ecad-K14_RFP-correlation-measurements/E-cad-IF-for-quantification-Ecad-quantification-Summary-High-Low-Low-Low.txt')\n",
    "df2 = df\n",
    "\n",
    "# Concatenate the 2 dataframes and reset the index\n",
    "df = pd.concat([df1, df2])\n",
    "df.reset_index(inplace=True)\n",
    "\n",
    "# Add column to store the RFP mean of two cells\n",
    "df['RFP_mean'] = (df.RFP_cell_1 + df.RFP_cell_2) / 2\n",
    "\n",
    "# Normalize Ecad_peak_height and RFP_mean by 1000 gray values\n",
    "df['Ecad_peak_height'] = df['Ecad_peak_height'] / 1000\n",
    "df['RFP_mean'] = df['RFP_mean'] / 1000\n",
    "df['RFP_cell_1'] = df['RFP_cell_1'] / 1000\n",
    "df['RFP_cell_2'] = df['RFP_cell_2'] / 1000\n",
    "\n",
    "# Check the header\n",
    "df.head()"
   ]
  },
  {
   "cell_type": "code",
   "execution_count": 296,
   "metadata": {},
   "outputs": [
    {
     "name": "stdout",
     "output_type": "stream",
     "text": [
      "390\n",
      "243\n"
     ]
    },
    {
     "data": {
      "image/png": "[encoded data removed]",
      "text/plain": [
       "<Figure size 432x288 with 1 Axes>"
      ]
     },
     "metadata": {
      "needs_background": "light"
     },
     "output_type": "display_data"
    }
   ],
   "source": [
    "# Find the empirical RFP threshold value (high low boundary)\n",
    "RFP = df.RFP_cell_1.tolist() + df.RFP_cell_2.tolist()\n",
    "RFP_threshold = .380\n",
    "\n",
    "sns.distplot(RFP, bins=20, kde=None, color='Red')\n",
    "plt.axvline(RFP_threshold, 0, 0.9, c='k')\n",
    "print(len(RFP))\n",
    "\n",
    "# How many RFP is beyond the testing threshold?\n",
    "a = [(RFP[i] > RFP_threshold) for i in range(len(RFP))]\n",
    "print(a.count(True))"
   ]
  },
  {
   "cell_type": "code",
   "execution_count": 297,
   "metadata": {
    "scrolled": true
   },
   "outputs": [
    {
     "data": {
      "text/html": [
       "<div>\n",
       "<style scoped>\n",
       "    .dataframe tbody tr th:only-of-type {\n",
       "        vertical-align: middle;\n",
       "    }\n",
       "\n",
       "    .dataframe tbody tr th {\n",
       "        vertical-align: top;\n",
       "    }\n",
       "\n",
       "    .dataframe thead th {\n",
       "        text-align: right;\n",
       "    }\n",
       "</style>\n",
       "<table border=\"1\" class=\"dataframe\">\n",
       "  <thead>\n",
       "    <tr style=\"text-align: right;\">\n",
       "      <th></th>\n",
       "      <th>index</th>\n",
       "      <th>file_name</th>\n",
       "      <th>edge_category</th>\n",
       "      <th>id</th>\n",
       "      <th>Ecad_AUC</th>\n",
       "      <th>Ecad_peak_height</th>\n",
       "      <th>RFP_cell_1</th>\n",
       "      <th>RFP_cell_2</th>\n",
       "      <th>z_position</th>\n",
       "      <th>RFP_mean</th>\n",
       "      <th>groups</th>\n",
       "    </tr>\n",
       "  </thead>\n",
       "  <tbody>\n",
       "    <tr>\n",
       "      <th>0</th>\n",
       "      <td>0</td>\n",
       "      <td>SMG2-2-FOV1-60x-retake-1024-3-rotated</td>\n",
       "      <td>High_High</td>\n",
       "      <td>1</td>\n",
       "      <td>4486.6595</td>\n",
       "      <td>0.869342</td>\n",
       "      <td>0.795802</td>\n",
       "      <td>0.808196</td>\n",
       "      <td>8</td>\n",
       "      <td>0.801999</td>\n",
       "      <td>High_High</td>\n",
       "    </tr>\n",
       "    <tr>\n",
       "      <th>1</th>\n",
       "      <td>1</td>\n",
       "      <td>SMG2-2-FOV1-60x-retake-1024-3-rotated</td>\n",
       "      <td>High_High</td>\n",
       "      <td>2</td>\n",
       "      <td>6135.7440</td>\n",
       "      <td>1.221321</td>\n",
       "      <td>1.580289</td>\n",
       "      <td>1.475370</td>\n",
       "      <td>8</td>\n",
       "      <td>1.527829</td>\n",
       "      <td>High_High</td>\n",
       "    </tr>\n",
       "    <tr>\n",
       "      <th>2</th>\n",
       "      <td>2</td>\n",
       "      <td>SMG2-2-FOV1-60x-retake-1024-3-rotated</td>\n",
       "      <td>High_High</td>\n",
       "      <td>3</td>\n",
       "      <td>6372.3150</td>\n",
       "      <td>0.754206</td>\n",
       "      <td>0.576654</td>\n",
       "      <td>0.607933</td>\n",
       "      <td>9</td>\n",
       "      <td>0.592294</td>\n",
       "      <td>High_High</td>\n",
       "    </tr>\n",
       "    <tr>\n",
       "      <th>3</th>\n",
       "      <td>3</td>\n",
       "      <td>SMG2-2-FOV1-60x-retake-1024-3-rotated</td>\n",
       "      <td>High_High</td>\n",
       "      <td>4</td>\n",
       "      <td>2535.1898</td>\n",
       "      <td>0.859864</td>\n",
       "      <td>0.919950</td>\n",
       "      <td>0.743782</td>\n",
       "      <td>8</td>\n",
       "      <td>0.831866</td>\n",
       "      <td>High_High</td>\n",
       "    </tr>\n",
       "    <tr>\n",
       "      <th>4</th>\n",
       "      <td>4</td>\n",
       "      <td>SMG2-2-FOV1-60x-retake-1024-3-rotated</td>\n",
       "      <td>High_High</td>\n",
       "      <td>5</td>\n",
       "      <td>3790.7785</td>\n",
       "      <td>0.862489</td>\n",
       "      <td>0.411583</td>\n",
       "      <td>0.411654</td>\n",
       "      <td>10</td>\n",
       "      <td>0.411618</td>\n",
       "      <td>High_High</td>\n",
       "    </tr>\n",
       "  </tbody>\n",
       "</table>\n",
       "</div>"
      ],
      "text/plain": [
       "   index                              file_name edge_category  id   Ecad_AUC  \\\n",
       "0      0  SMG2-2-FOV1-60x-retake-1024-3-rotated     High_High   1  4486.6595   \n",
       "1      1  SMG2-2-FOV1-60x-retake-1024-3-rotated     High_High   2  6135.7440   \n",
       "2      2  SMG2-2-FOV1-60x-retake-1024-3-rotated     High_High   3  6372.3150   \n",
       "3      3  SMG2-2-FOV1-60x-retake-1024-3-rotated     High_High   4  2535.1898   \n",
       "4      4  SMG2-2-FOV1-60x-retake-1024-3-rotated     High_High   5  3790.7785   \n",
       "\n",
       "   Ecad_peak_height  RFP_cell_1  RFP_cell_2  z_position  RFP_mean     groups  \n",
       "0          0.869342    0.795802    0.808196           8  0.801999  High_High  \n",
       "1          1.221321    1.580289    1.475370           8  1.527829  High_High  \n",
       "2          0.754206    0.576654    0.607933           9  0.592294  High_High  \n",
       "3          0.859864    0.919950    0.743782           8  0.831866  High_High  \n",
       "4          0.862489    0.411583    0.411654          10  0.411618  High_High  "
      ]
     },
     "execution_count": 297,
     "metadata": {},
     "output_type": "execute_result"
    }
   ],
   "source": [
    "# Add data based category column\n",
    "data_based_category = []\n",
    "\n",
    "for i in range(len(df)):\n",
    "    temp = 'High_Low'\n",
    "    if df.RFP_cell_1[i] >= RFP_threshold and df.RFP_cell_2[i] >= RFP_threshold:\n",
    "        temp = \"High_High\"\n",
    "    if df.RFP_cell_1[i] < RFP_threshold and df.RFP_cell_2[i] < RFP_threshold:\n",
    "        temp = \"Low_Low\"\n",
    "    data_based_category.append(temp)\n",
    "\n",
    "df['groups'] = data_based_category\n",
    "df1_df2_combined = df\n",
    "df.head()"
   ]
  },
  {
   "cell_type": "code",
   "execution_count": 298,
   "metadata": {},
   "outputs": [
    {
     "name": "stdout",
     "output_type": "stream",
     "text": [
      "Summary of test:\n",
      "  Multiple Comparison of Means - Tukey HSD, FWER=0.05  \n",
      "======================================================\n",
      "  group1   group2  meandiff p-adj lower  upper  reject\n",
      "------------------------------------------------------\n",
      "High_High High_Low   0.4901 0.001 0.3117 0.6685   True\n",
      "High_High  Low_Low   1.2292 0.001 1.0508 1.4076   True\n",
      " High_Low  Low_Low   0.7391 0.001 0.5335 0.9447   True\n",
      "------------------------------------------------------\n",
      "p values of all pair-wise tests:\n",
      " [0.001 0.001 0.001]\n"
     ]
    },
    {
     "data": {
      "text/plain": [
       "<statsmodels.sandbox.stats.multicomp.TukeyHSDResults at 0x7f849d08aa90>"
      ]
     },
     "execution_count": 298,
     "metadata": {},
     "output_type": "execute_result"
    }
   ],
   "source": [
    "tukeyTest(df.Ecad_peak_height, df.groups)"
   ]
  },
  {
   "cell_type": "code",
   "execution_count": 299,
   "metadata": {},
   "outputs": [
    {
     "data": {
      "text/html": [
       "<div>\n",
       "<style scoped>\n",
       "    .dataframe tbody tr th:only-of-type {\n",
       "        vertical-align: middle;\n",
       "    }\n",
       "\n",
       "    .dataframe tbody tr th {\n",
       "        vertical-align: top;\n",
       "    }\n",
       "\n",
       "    .dataframe thead th {\n",
       "        text-align: right;\n",
       "    }\n",
       "</style>\n",
       "<table border=\"1\" class=\"dataframe\">\n",
       "  <thead>\n",
       "    <tr style=\"text-align: right;\">\n",
       "      <th></th>\n",
       "      <th>index</th>\n",
       "      <th>id</th>\n",
       "      <th>Ecad_AUC</th>\n",
       "      <th>Ecad_peak_height</th>\n",
       "      <th>RFP_cell_1</th>\n",
       "      <th>RFP_cell_2</th>\n",
       "      <th>z_position</th>\n",
       "      <th>RFP_mean</th>\n",
       "    </tr>\n",
       "  </thead>\n",
       "  <tbody>\n",
       "    <tr>\n",
       "      <th>index</th>\n",
       "      <td>1.000000</td>\n",
       "      <td>0.344566</td>\n",
       "      <td>0.035458</td>\n",
       "      <td>0.025051</td>\n",
       "      <td>0.104854</td>\n",
       "      <td>0.002130</td>\n",
       "      <td>0.286114</td>\n",
       "      <td>0.060073</td>\n",
       "    </tr>\n",
       "    <tr>\n",
       "      <th>id</th>\n",
       "      <td>0.344566</td>\n",
       "      <td>1.000000</td>\n",
       "      <td>0.072505</td>\n",
       "      <td>0.048408</td>\n",
       "      <td>-0.221091</td>\n",
       "      <td>0.020364</td>\n",
       "      <td>0.609279</td>\n",
       "      <td>-0.111846</td>\n",
       "    </tr>\n",
       "    <tr>\n",
       "      <th>Ecad_AUC</th>\n",
       "      <td>0.035458</td>\n",
       "      <td>0.072505</td>\n",
       "      <td>1.000000</td>\n",
       "      <td>0.863316</td>\n",
       "      <td>-0.450796</td>\n",
       "      <td>-0.451964</td>\n",
       "      <td>-0.268178</td>\n",
       "      <td>-0.522318</td>\n",
       "    </tr>\n",
       "    <tr>\n",
       "      <th>Ecad_peak_height</th>\n",
       "      <td>0.025051</td>\n",
       "      <td>0.048408</td>\n",
       "      <td>0.863316</td>\n",
       "      <td>1.000000</td>\n",
       "      <td>-0.465613</td>\n",
       "      <td>-0.546795</td>\n",
       "      <td>-0.290992</td>\n",
       "      <td>-0.587176</td>\n",
       "    </tr>\n",
       "    <tr>\n",
       "      <th>RFP_cell_1</th>\n",
       "      <td>0.104854</td>\n",
       "      <td>-0.221091</td>\n",
       "      <td>-0.450796</td>\n",
       "      <td>-0.465613</td>\n",
       "      <td>1.000000</td>\n",
       "      <td>0.493278</td>\n",
       "      <td>0.038507</td>\n",
       "      <td>0.854951</td>\n",
       "    </tr>\n",
       "    <tr>\n",
       "      <th>RFP_cell_2</th>\n",
       "      <td>0.002130</td>\n",
       "      <td>0.020364</td>\n",
       "      <td>-0.451964</td>\n",
       "      <td>-0.546795</td>\n",
       "      <td>0.493278</td>\n",
       "      <td>1.000000</td>\n",
       "      <td>0.068052</td>\n",
       "      <td>0.872939</td>\n",
       "    </tr>\n",
       "    <tr>\n",
       "      <th>z_position</th>\n",
       "      <td>0.286114</td>\n",
       "      <td>0.609279</td>\n",
       "      <td>-0.268178</td>\n",
       "      <td>-0.290992</td>\n",
       "      <td>0.038507</td>\n",
       "      <td>0.068052</td>\n",
       "      <td>1.000000</td>\n",
       "      <td>0.062175</td>\n",
       "    </tr>\n",
       "    <tr>\n",
       "      <th>RFP_mean</th>\n",
       "      <td>0.060073</td>\n",
       "      <td>-0.111846</td>\n",
       "      <td>-0.522318</td>\n",
       "      <td>-0.587176</td>\n",
       "      <td>0.854951</td>\n",
       "      <td>0.872939</td>\n",
       "      <td>0.062175</td>\n",
       "      <td>1.000000</td>\n",
       "    </tr>\n",
       "  </tbody>\n",
       "</table>\n",
       "</div>"
      ],
      "text/plain": [
       "                     index        id  Ecad_AUC  Ecad_peak_height  RFP_cell_1  \\\n",
       "index             1.000000  0.344566  0.035458          0.025051    0.104854   \n",
       "id                0.344566  1.000000  0.072505          0.048408   -0.221091   \n",
       "Ecad_AUC          0.035458  0.072505  1.000000          0.863316   -0.450796   \n",
       "Ecad_peak_height  0.025051  0.048408  0.863316          1.000000   -0.465613   \n",
       "RFP_cell_1        0.104854 -0.221091 -0.450796         -0.465613    1.000000   \n",
       "RFP_cell_2        0.002130  0.020364 -0.451964         -0.546795    0.493278   \n",
       "z_position        0.286114  0.609279 -0.268178         -0.290992    0.038507   \n",
       "RFP_mean          0.060073 -0.111846 -0.522318         -0.587176    0.854951   \n",
       "\n",
       "                  RFP_cell_2  z_position  RFP_mean  \n",
       "index               0.002130    0.286114  0.060073  \n",
       "id                  0.020364    0.609279 -0.111846  \n",
       "Ecad_AUC           -0.451964   -0.268178 -0.522318  \n",
       "Ecad_peak_height   -0.546795   -0.290992 -0.587176  \n",
       "RFP_cell_1          0.493278    0.038507  0.854951  \n",
       "RFP_cell_2          1.000000    0.068052  0.872939  \n",
       "z_position          0.068052    1.000000  0.062175  \n",
       "RFP_mean            0.872939    0.062175  1.000000  "
      ]
     },
     "execution_count": 299,
     "metadata": {},
     "output_type": "execute_result"
    }
   ],
   "source": [
    "df.corr()"
   ]
  },
  {
   "cell_type": "code",
   "execution_count": 300,
   "metadata": {
    "scrolled": false
   },
   "outputs": [
    {
     "data": {
      "text/plain": [
       "<AxesSubplot:xlabel='RFP_mean', ylabel='Ecad_peak_height'>"
      ]
     },
     "execution_count": 300,
     "metadata": {},
     "output_type": "execute_result"
    },
    {
     "data": {
      "image/png": "[encoded data removed]",
      "text/plain": [
       "<Figure size 432x288 with 1 Axes>"
      ]
     },
     "metadata": {
      "needs_background": "light"
     },
     "output_type": "display_data"
    }
   ],
   "source": [
    "sns.scatterplot(df.RFP_mean, df.Ecad_peak_height)\n",
    "# sns.scatterplot(data=df, x=\"RFP_mean\", y=\"Ecad_peak_height\", hue=\"file_name\")"
   ]
  },
  {
   "cell_type": "code",
   "execution_count": 301,
   "metadata": {},
   "outputs": [
    {
     "name": "stdout",
     "output_type": "stream",
     "text": [
      "Linear regression parameters (slope, intercep, r square, p_value and std_err):\n",
      "-1.339977697320219 2.0294296027193264 0.3447752547973159 1.850796468947113e-19 0.13296765717121736\n"
     ]
    }
   ],
   "source": [
    "slope, intercept, r_value, p_value, std_err = stats.linregress(df.RFP_mean, df.Ecad_peak_height)\n",
    "\n",
    "print(\"Linear regression parameters (slope, intercep, r square, p_value and std_err):\")\n",
    "print(slope, intercept, r_value**2, p_value, std_err)"
   ]
  },
  {
   "cell_type": "code",
   "execution_count": 302,
   "metadata": {},
   "outputs": [
    {
     "name": "stdout",
     "output_type": "stream",
     "text": [
      "Linear regression parameters (slope, intercep, r square, p_value and std_err):\n",
      "0.0022091447500103075 0.4890615442831156 0.0038657306003001385 0.38787340875733367 0.0025526346880982874\n"
     ]
    }
   ],
   "source": [
    "slope, intercept, r_value, p_value, std_err = stats.linregress(df.z_position, df.RFP_mean)\n",
    "\n",
    "print(\"Linear regression parameters (slope, intercep, r square, p_value and std_err):\")\n",
    "print(slope, intercept, r_value**2, p_value, std_err)"
   ]
  },
  {
   "cell_type": "code",
   "execution_count": 303,
   "metadata": {},
   "outputs": [
    {
     "data": {
      "text/plain": [
       "<AxesSubplot:xlabel='groups', ylabel='Ecad_peak_height'>"
      ]
     },
     "execution_count": 303,
     "metadata": {},
     "output_type": "execute_result"
    },
    {
     "data": {
      "image/png": "[encoded data removed]",
      "text/plain": [
       "<Figure size 432x288 with 1 Axes>"
      ]
     },
     "metadata": {
      "needs_background": "light"
     },
     "output_type": "display_data"
    }
   ],
   "source": [
    "sns.swarmplot(df.groups, df.Ecad_peak_height)"
   ]
  },
  {
   "cell_type": "code",
   "execution_count": 304,
   "metadata": {},
   "outputs": [
    {
     "name": "stdout",
     "output_type": "stream",
     "text": [
      "The total number of edges are:  195\n",
      "The number of matched groups are:  183\n"
     ]
    }
   ],
   "source": [
    "a = list(df.edge_category == df.groups)\n",
    "print( 'The total number of edges are: ', len(a))\n",
    "print( 'The number of matched groups are: ', a.count(True) )"
   ]
  },
  {
   "cell_type": "code",
   "execution_count": 305,
   "metadata": {},
   "outputs": [
    {
     "data": {
      "text/html": [
       "<div>\n",
       "<style scoped>\n",
       "    .dataframe tbody tr th:only-of-type {\n",
       "        vertical-align: middle;\n",
       "    }\n",
       "\n",
       "    .dataframe tbody tr th {\n",
       "        vertical-align: top;\n",
       "    }\n",
       "\n",
       "    .dataframe thead th {\n",
       "        text-align: right;\n",
       "    }\n",
       "</style>\n",
       "<table border=\"1\" class=\"dataframe\">\n",
       "  <thead>\n",
       "    <tr style=\"text-align: right;\">\n",
       "      <th></th>\n",
       "      <th>file_name</th>\n",
       "      <th>edge_category</th>\n",
       "      <th>id</th>\n",
       "      <th>Ecad_AUC</th>\n",
       "      <th>Ecad_peak_height</th>\n",
       "      <th>RFP_cell_1</th>\n",
       "      <th>RFP_cell_2</th>\n",
       "      <th>z_position</th>\n",
       "      <th>RFP_mean</th>\n",
       "      <th>groups</th>\n",
       "    </tr>\n",
       "  </thead>\n",
       "  <tbody>\n",
       "    <tr>\n",
       "      <th>0</th>\n",
       "      <td>SMG2-2-FOV1-60x-retake-1024-3-rotated</td>\n",
       "      <td>High_Low</td>\n",
       "      <td>1</td>\n",
       "      <td>6255.2470</td>\n",
       "      <td>1.003793</td>\n",
       "      <td>1.159715</td>\n",
       "      <td>0.139382</td>\n",
       "      <td>14</td>\n",
       "      <td>0.649548</td>\n",
       "      <td>High_Low_SD</td>\n",
       "    </tr>\n",
       "    <tr>\n",
       "      <th>1</th>\n",
       "      <td>SMG2-2-FOV1-60x-retake-1024-3-rotated</td>\n",
       "      <td>High_Low</td>\n",
       "      <td>2</td>\n",
       "      <td>6638.3349</td>\n",
       "      <td>1.140797</td>\n",
       "      <td>1.025197</td>\n",
       "      <td>0.191043</td>\n",
       "      <td>35</td>\n",
       "      <td>0.608120</td>\n",
       "      <td>High_Low_SD</td>\n",
       "    </tr>\n",
       "    <tr>\n",
       "      <th>2</th>\n",
       "      <td>SMG2-2-FOV1-60x-retake-1024-3-rotated</td>\n",
       "      <td>High_Low</td>\n",
       "      <td>3</td>\n",
       "      <td>5029.8314</td>\n",
       "      <td>1.127809</td>\n",
       "      <td>1.104968</td>\n",
       "      <td>0.146003</td>\n",
       "      <td>27</td>\n",
       "      <td>0.625486</td>\n",
       "      <td>High_Low_SD</td>\n",
       "    </tr>\n",
       "    <tr>\n",
       "      <th>3</th>\n",
       "      <td>SMG2-2-FOV1-60x-retake-1024-3-rotated</td>\n",
       "      <td>High_Low</td>\n",
       "      <td>4</td>\n",
       "      <td>7238.6611</td>\n",
       "      <td>0.888208</td>\n",
       "      <td>0.888280</td>\n",
       "      <td>0.544572</td>\n",
       "      <td>17</td>\n",
       "      <td>0.716426</td>\n",
       "      <td>High_High_SD</td>\n",
       "    </tr>\n",
       "    <tr>\n",
       "      <th>4</th>\n",
       "      <td>SMG2-2-FOV1-60x-retake-1024-3-rotated</td>\n",
       "      <td>High_Low</td>\n",
       "      <td>5</td>\n",
       "      <td>8542.9606</td>\n",
       "      <td>1.944409</td>\n",
       "      <td>0.425675</td>\n",
       "      <td>0.118761</td>\n",
       "      <td>11</td>\n",
       "      <td>0.272218</td>\n",
       "      <td>High_Low_SD</td>\n",
       "    </tr>\n",
       "  </tbody>\n",
       "</table>\n",
       "</div>"
      ],
      "text/plain": [
       "                               file_name edge_category  id   Ecad_AUC  \\\n",
       "0  SMG2-2-FOV1-60x-retake-1024-3-rotated      High_Low   1  6255.2470   \n",
       "1  SMG2-2-FOV1-60x-retake-1024-3-rotated      High_Low   2  6638.3349   \n",
       "2  SMG2-2-FOV1-60x-retake-1024-3-rotated      High_Low   3  5029.8314   \n",
       "3  SMG2-2-FOV1-60x-retake-1024-3-rotated      High_Low   4  7238.6611   \n",
       "4  SMG2-2-FOV1-60x-retake-1024-3-rotated      High_Low   5  8542.9606   \n",
       "\n",
       "   Ecad_peak_height  RFP_cell_1  RFP_cell_2  z_position  RFP_mean  \\\n",
       "0          1.003793    1.159715    0.139382          14  0.649548   \n",
       "1          1.140797    1.025197    0.191043          35  0.608120   \n",
       "2          1.127809    1.104968    0.146003          27  0.625486   \n",
       "3          0.888208    0.888280    0.544572          17  0.716426   \n",
       "4          1.944409    0.425675    0.118761          11  0.272218   \n",
       "\n",
       "         groups  \n",
       "0   High_Low_SD  \n",
       "1   High_Low_SD  \n",
       "2   High_Low_SD  \n",
       "3  High_High_SD  \n",
       "4   High_Low_SD  "
      ]
     },
     "execution_count": 305,
     "metadata": {},
     "output_type": "execute_result"
    }
   ],
   "source": [
    "# Adding measurements of the surface-derived cells\n",
    "df = pd.read_csv('../data/Ecad-K14_RFP-correlation-measurements/E-cad-IF-for-quantification-Ecad-quantification-Summary-Surface-Derived-Cell-Edges.txt')\n",
    "\n",
    "# Add column to store the RFP mean of two cells\n",
    "df['RFP_mean'] = (df.RFP_cell_1 + df.RFP_cell_2) / 2\n",
    "\n",
    "# Normalize Ecad_peak_height and RFP_mean by 1000 gray values\n",
    "df['Ecad_peak_height'] = df['Ecad_peak_height'] / 1000\n",
    "df['RFP_mean'] = df['RFP_mean'] / 1000\n",
    "df['RFP_cell_1'] = df['RFP_cell_1'] / 1000\n",
    "df['RFP_cell_2'] = df['RFP_cell_2'] / 1000\n",
    "\n",
    "# Add data based category column\n",
    "data_based_category = []\n",
    "for i in range(len(df)):\n",
    "    temp = 'High_Low_SD'\n",
    "    if df.RFP_cell_1[i] >= RFP_threshold and df.RFP_cell_2[i] >= RFP_threshold:\n",
    "        temp = \"High_High_SD\"\n",
    "    if df.RFP_cell_1[i] < RFP_threshold and df.RFP_cell_2[i] < RFP_threshold:\n",
    "        temp = \"Low_Low_SD\"\n",
    "    data_based_category.append(temp)\n",
    "\n",
    "df['groups'] = data_based_category\n",
    "\n",
    "df3 = df\n",
    "df3.head()"
   ]
  },
  {
   "cell_type": "code",
   "execution_count": 306,
   "metadata": {},
   "outputs": [
    {
     "data": {
      "text/html": [
       "<div>\n",
       "<style scoped>\n",
       "    .dataframe tbody tr th:only-of-type {\n",
       "        vertical-align: middle;\n",
       "    }\n",
       "\n",
       "    .dataframe tbody tr th {\n",
       "        vertical-align: top;\n",
       "    }\n",
       "\n",
       "    .dataframe thead th {\n",
       "        text-align: right;\n",
       "    }\n",
       "</style>\n",
       "<table border=\"1\" class=\"dataframe\">\n",
       "  <thead>\n",
       "    <tr style=\"text-align: right;\">\n",
       "      <th></th>\n",
       "      <th>level_0</th>\n",
       "      <th>index</th>\n",
       "      <th>file_name</th>\n",
       "      <th>edge_category</th>\n",
       "      <th>id</th>\n",
       "      <th>Ecad_AUC</th>\n",
       "      <th>Ecad_peak_height</th>\n",
       "      <th>RFP_cell_1</th>\n",
       "      <th>RFP_cell_2</th>\n",
       "      <th>z_position</th>\n",
       "      <th>RFP_mean</th>\n",
       "      <th>groups</th>\n",
       "    </tr>\n",
       "  </thead>\n",
       "  <tbody>\n",
       "    <tr>\n",
       "      <th>0</th>\n",
       "      <td>0</td>\n",
       "      <td>0.0</td>\n",
       "      <td>SMG2-2-FOV1-60x-retake-1024-3-rotated</td>\n",
       "      <td>High_High</td>\n",
       "      <td>1</td>\n",
       "      <td>4486.6595</td>\n",
       "      <td>0.869342</td>\n",
       "      <td>0.795802</td>\n",
       "      <td>0.808196</td>\n",
       "      <td>8</td>\n",
       "      <td>0.801999</td>\n",
       "      <td>High_High</td>\n",
       "    </tr>\n",
       "    <tr>\n",
       "      <th>1</th>\n",
       "      <td>1</td>\n",
       "      <td>1.0</td>\n",
       "      <td>SMG2-2-FOV1-60x-retake-1024-3-rotated</td>\n",
       "      <td>High_High</td>\n",
       "      <td>2</td>\n",
       "      <td>6135.7440</td>\n",
       "      <td>1.221321</td>\n",
       "      <td>1.580289</td>\n",
       "      <td>1.475370</td>\n",
       "      <td>8</td>\n",
       "      <td>1.527829</td>\n",
       "      <td>High_High</td>\n",
       "    </tr>\n",
       "    <tr>\n",
       "      <th>2</th>\n",
       "      <td>2</td>\n",
       "      <td>2.0</td>\n",
       "      <td>SMG2-2-FOV1-60x-retake-1024-3-rotated</td>\n",
       "      <td>High_High</td>\n",
       "      <td>3</td>\n",
       "      <td>6372.3150</td>\n",
       "      <td>0.754206</td>\n",
       "      <td>0.576654</td>\n",
       "      <td>0.607933</td>\n",
       "      <td>9</td>\n",
       "      <td>0.592294</td>\n",
       "      <td>High_High</td>\n",
       "    </tr>\n",
       "    <tr>\n",
       "      <th>3</th>\n",
       "      <td>3</td>\n",
       "      <td>3.0</td>\n",
       "      <td>SMG2-2-FOV1-60x-retake-1024-3-rotated</td>\n",
       "      <td>High_High</td>\n",
       "      <td>4</td>\n",
       "      <td>2535.1898</td>\n",
       "      <td>0.859864</td>\n",
       "      <td>0.919950</td>\n",
       "      <td>0.743782</td>\n",
       "      <td>8</td>\n",
       "      <td>0.831866</td>\n",
       "      <td>High_High</td>\n",
       "    </tr>\n",
       "    <tr>\n",
       "      <th>4</th>\n",
       "      <td>4</td>\n",
       "      <td>4.0</td>\n",
       "      <td>SMG2-2-FOV1-60x-retake-1024-3-rotated</td>\n",
       "      <td>High_High</td>\n",
       "      <td>5</td>\n",
       "      <td>3790.7785</td>\n",
       "      <td>0.862489</td>\n",
       "      <td>0.411583</td>\n",
       "      <td>0.411654</td>\n",
       "      <td>10</td>\n",
       "      <td>0.411618</td>\n",
       "      <td>High_High</td>\n",
       "    </tr>\n",
       "  </tbody>\n",
       "</table>\n",
       "</div>"
      ],
      "text/plain": [
       "   level_0  index                              file_name edge_category  id  \\\n",
       "0        0    0.0  SMG2-2-FOV1-60x-retake-1024-3-rotated     High_High   1   \n",
       "1        1    1.0  SMG2-2-FOV1-60x-retake-1024-3-rotated     High_High   2   \n",
       "2        2    2.0  SMG2-2-FOV1-60x-retake-1024-3-rotated     High_High   3   \n",
       "3        3    3.0  SMG2-2-FOV1-60x-retake-1024-3-rotated     High_High   4   \n",
       "4        4    4.0  SMG2-2-FOV1-60x-retake-1024-3-rotated     High_High   5   \n",
       "\n",
       "    Ecad_AUC  Ecad_peak_height  RFP_cell_1  RFP_cell_2  z_position  RFP_mean  \\\n",
       "0  4486.6595          0.869342    0.795802    0.808196           8  0.801999   \n",
       "1  6135.7440          1.221321    1.580289    1.475370           8  1.527829   \n",
       "2  6372.3150          0.754206    0.576654    0.607933           9  0.592294   \n",
       "3  2535.1898          0.859864    0.919950    0.743782           8  0.831866   \n",
       "4  3790.7785          0.862489    0.411583    0.411654          10  0.411618   \n",
       "\n",
       "      groups  \n",
       "0  High_High  \n",
       "1  High_High  \n",
       "2  High_High  \n",
       "3  High_High  \n",
       "4  High_High  "
      ]
     },
     "execution_count": 306,
     "metadata": {},
     "output_type": "execute_result"
    }
   ],
   "source": [
    "# Concatenate the 2 dataframes and reset the index\n",
    "df = pd.concat([df1_df2_combined, df3])\n",
    "df.reset_index(inplace=True)\n",
    "df_all = df\n",
    "df.head()"
   ]
  },
  {
   "cell_type": "code",
   "execution_count": 307,
   "metadata": {},
   "outputs": [
    {
     "data": {
      "text/plain": [
       "<AxesSubplot:xlabel='groups', ylabel='Ecad_peak_height'>"
      ]
     },
     "execution_count": 307,
     "metadata": {},
     "output_type": "execute_result"
    },
    {
     "data": {
      "image/png": "[encoded data removed]",
      "text/plain": [
       "<Figure size 432x288 with 1 Axes>"
      ]
     },
     "metadata": {
      "needs_background": "light"
     },
     "output_type": "display_data"
    }
   ],
   "source": [
    "sns.swarmplot(df.groups, df.Ecad_peak_height,\n",
    "              order=['High_High', 'High_Low', 'Low_Low', 'High_High_SD', 'High_Low_SD'])"
   ]
  },
  {
   "cell_type": "code",
   "execution_count": 308,
   "metadata": {},
   "outputs": [
    {
     "name": "stdout",
     "output_type": "stream",
     "text": [
      "Summary of test:\n",
      "       Multiple Comparison of Means - Tukey HSD, FWER=0.05      \n",
      "===============================================================\n",
      "   group1       group2    meandiff p-adj   lower  upper  reject\n",
      "---------------------------------------------------------------\n",
      "   High_High High_High_SD   0.1719  0.425 -0.1027 0.4464  False\n",
      "   High_High     High_Low   0.4901  0.001  0.2755 0.7047   True\n",
      "   High_High  High_Low_SD   0.4983  0.001  0.2036 0.7929   True\n",
      "   High_High      Low_Low   1.2292  0.001  1.0146 1.4438   True\n",
      "High_High_SD     High_Low   0.3182 0.0323  0.0174 0.6191   True\n",
      "High_High_SD  High_Low_SD   0.3264 0.0995 -0.0359 0.6888  False\n",
      "High_High_SD      Low_Low   1.0573  0.001  0.7565 1.3582   True\n",
      "    High_Low  High_Low_SD   0.0082    0.9 -0.3111 0.3275  False\n",
      "    High_Low      Low_Low   0.7391  0.001  0.4918 0.9864   True\n",
      " High_Low_SD      Low_Low   0.7309  0.001  0.4116 1.0502   True\n",
      "---------------------------------------------------------------\n",
      "p values of all pair-wise tests:\n",
      " [0.42499627 0.001      0.001      0.001      0.03226573 0.09947331\n",
      " 0.001      0.9        0.001      0.001     ]\n"
     ]
    },
    {
     "data": {
      "text/plain": [
       "<statsmodels.sandbox.stats.multicomp.TukeyHSDResults at 0x7f849cc0e550>"
      ]
     },
     "execution_count": 308,
     "metadata": {},
     "output_type": "execute_result"
    }
   ],
   "source": [
    "tukeyTest(df.Ecad_peak_height, df.groups)"
   ]
  },
  {
   "cell_type": "markdown",
   "metadata": {},
   "source": [
    "## Plots for figures"
   ]
  },
  {
   "cell_type": "code",
   "execution_count": 264,
   "metadata": {},
   "outputs": [],
   "source": [
    "def change_width(ax, new_value) :\n",
    "    for patch in ax.patches :\n",
    "        current_width = patch.get_width()\n",
    "        diff = current_width - new_value\n",
    "\n",
    "        # we change the bar width\n",
    "        patch.set_width(new_value)\n",
    "\n",
    "        # we recenter the bar\n",
    "        patch.set_x(patch.get_x() + diff * .5)"
   ]
  },
  {
   "cell_type": "code",
   "execution_count": 317,
   "metadata": {},
   "outputs": [
    {
     "data": {
      "image/png": "[encoded data removed]",
      "text/plain": [
       "<Figure size 480x240 with 1 Axes>"
      ]
     },
     "metadata": {
      "needs_background": "light"
     },
     "output_type": "display_data"
    }
   ],
   "source": [
    "# Swarm plot of 5 categories\n",
    "\n",
    "outputPrefix = '20200916-24-SMG-Krt14-RFP-Ecad-correlation-swarm'\n",
    "outputFigPath = \"../jupyter_figures/\" + outputPrefix + \".svg\"\n",
    "\n",
    "fig_width=1.6\n",
    "fig_height=0.8\n",
    "fig = plt.figure(figsize=(fig_width,fig_height), dpi=300)\n",
    "ax = fig.add_axes([0.1, 0.1, 0.8, 0.8])\n",
    "\n",
    "ax = sns.swarmplot(x='groups', y='Ecad_peak_height', data=df,\n",
    "                   order=['High_High', 'High_Low', 'Low_Low', 'High_High_SD', 'High_Low_SD'],\n",
    "                   color=\"blue\", size=1.0, alpha=.4)\n",
    "\n",
    "ax = sns.barplot(x='groups', y='Ecad_peak_height', data=df,\n",
    "                 color=\".7\", alpha=1.0,\n",
    "                 order=['High_High', 'High_Low', 'Low_Low', 'High_High_SD', 'High_Low_SD'],\n",
    "                 errwidth=.7, errcolor=\"k\", capsize=.2, ci=95)\n",
    "\n",
    "plt.ylim(0, 5)\n",
    "# plt.yticks([0, 10, 20])\n",
    "\n",
    "plt.xlabel(None)\n",
    "plt.ylabel(\"E-cad intensity\")\n",
    "\n",
    "# ax.set_xticklabels(labels=plot_order, rotation=45, ha=\"right\")\n",
    "\n",
    "# make the bar width narrower\n",
    "change_width(ax, .5)\n",
    "\n",
    "# rotate x tick labels\n",
    "x_labels = ['High-High', 'High-Low', 'Low-Low', 'High-High', 'High-Low']\n",
    "ax.set_xticklabels(labels=x_labels, rotation=30, ha=\"right\")\n",
    "\n",
    "for o in fig.findobj():\n",
    "    o.set_clip_on(False)\n",
    "for o in ax.findobj():\n",
    "    o.set_clip_on(False)\n",
    "\n",
    "if outputFigPath is not None:\n",
    "    plt.savefig(outputFigPath)\n"
   ]
  },
  {
   "cell_type": "code",
   "execution_count": 313,
   "metadata": {},
   "outputs": [
    {
     "data": {
      "image/png": "[encoded data removed]",
      "text/plain": [
       "<Figure size 300x240 with 1 Axes>"
      ]
     },
     "metadata": {
      "needs_background": "light"
     },
     "output_type": "display_data"
    }
   ],
   "source": [
    "# Regression plot of E-cad and mean RFP intensities\n",
    "\n",
    "outputPrefix = '20200916-24-SMG-Krt14-RFP-Ecad-correlation-regplot'\n",
    "outputFigPath = \"../jupyter_figures/\" + outputPrefix + \".svg\"\n",
    "\n",
    "fig_width=1.0\n",
    "fig_height=0.8\n",
    "fig = plt.figure(figsize=(fig_width,fig_height), dpi=300)\n",
    "ax = fig.add_axes([0.1, 0.1, 0.8, 0.8])\n",
    "\n",
    "ax = sns.regplot(data = df1_df2_combined, x = 'RFP_mean', y = 'Ecad_peak_height',\n",
    "                 scatter_kws={'s': 2, 'color': 'b', 'alpha': .4, 'linewidth': 0},\n",
    "                 line_kws={'color': 'k', 'alpha': .8, 'linewidth': .7},\n",
    "                )\n",
    "\n",
    "plt.ylim(0, 4)\n",
    "# plt.yticks([0, 10, 20])\n",
    "plt.xlim(0, 1.6)\n",
    "\n",
    "plt.xlabel('Mean RFP intensity')\n",
    "plt.ylabel(\"E-cad intensity\")\n",
    "\n",
    "# ax.set_xticklabels(labels=plot_order, rotation=45, ha=\"right\")\n",
    "\n",
    "# make the bar width narrower\n",
    "change_width(ax, .5)\n",
    "\n",
    "for o in fig.findobj():\n",
    "    o.set_clip_on(False)\n",
    "for o in ax.findobj():\n",
    "    o.set_clip_on(False)\n",
    "\n",
    "if outputFigPath is not None:\n",
    "    plt.savefig(outputFigPath)\n"
   ]
  },
  {
   "cell_type": "code",
   "execution_count": 335,
   "metadata": {},
   "outputs": [
    {
     "data": {
      "image/png": "[encoded data removed]",
      "text/plain": [
       "<Figure size 150x150 with 1 Axes>"
      ]
     },
     "metadata": {
      "needs_background": "light"
     },
     "output_type": "display_data"
    }
   ],
   "source": [
    "# Example Ecad linescan profile\n",
    "\n",
    "df_ecad_example = pd.read_csv('../data/Ecad-K14_RFP-correlation-measurements/Example-Ecad-linescan.csv',\n",
    "                              header=None) \n",
    "\n",
    "df_ecad_example.columns = ['microns', 'Ecad']\n",
    "df_ecad_example\n",
    "\n",
    "outputPrefix = '20200916-24-SMG-Krt14-RFP-Ecad-correlation-example-line-profile'\n",
    "outputFigPath = \"../jupyter_figures/\" + outputPrefix + \".svg\"\n",
    "\n",
    "fig_width=0.5\n",
    "fig_height=0.5\n",
    "fig = plt.figure(figsize=(fig_width,fig_height), dpi=300)\n",
    "ax = fig.add_axes([0.1, 0.1, 0.8, 0.8])\n",
    "\n",
    "plt.plot(df_ecad_example.microns, df_ecad_example.Ecad, color='#00dddd')\n",
    "\n",
    "for o in fig.findobj():\n",
    "    o.set_clip_on(False)\n",
    "for o in ax.findobj():\n",
    "    o.set_clip_on(False)\n",
    "\n",
    "if outputFigPath is not None:\n",
    "    plt.savefig(outputFigPath)\n"
   ]
  },
  {
   "cell_type": "code",
   "execution_count": 344,
   "metadata": {},
   "outputs": [
    {
     "data": {
      "image/png": "[encoded data removed]",
      "text/plain": [
       "<Figure size 450x150 with 1 Axes>"
      ]
     },
     "metadata": {
      "needs_background": "light"
     },
     "output_type": "display_data"
    }
   ],
   "source": [
    "outputPrefix = '20200916-24-SMG-Krt14-RFP-Ecad-correlation-RFP-histogram'\n",
    "# outputFigPath = None\n",
    "outputFigPath = \"../jupyter_figures/\" + outputPrefix + \".svg\"\n",
    "\n",
    "fig_width = 1.5\n",
    "fig_height = 0.5\n",
    "fig = plt.figure(figsize=(fig_width,fig_height), dpi=300)\n",
    "ax = fig.add_axes([0.1, 0.1, 0.8, 0.8])\n",
    "\n",
    "# Find the empirical RFP threshold value (high low boundary)\n",
    "RFP = df.RFP_cell_1.tolist() + df.RFP_cell_2.tolist()\n",
    "RFP_threshold = .380\n",
    "\n",
    "sns.distplot(RFP, bins=30, kde=None, color='Magenta')\n",
    "plt.axvline(RFP_threshold, 0, 0.9, c='k')\n",
    "\n",
    "for o in fig.findobj():\n",
    "    o.set_clip_on(False)\n",
    "for o in ax.findobj():\n",
    "    o.set_clip_on(False)\n",
    "\n",
    "if outputFigPath is not None:\n",
    "    plt.savefig(outputFigPath)\n"
   ]
  },
  {
   "cell_type": "code",
   "execution_count": null,
   "metadata": {},
   "outputs": [],
   "source": []
  }
 ],
 "metadata": {
  "kernelspec": {
   "display_name": "Python 3",
   "language": "python",
   "name": "python3"
  },
  "language_info": {
   "codemirror_mode": {
    "name": "ipython",
    "version": 3
   },
   "file_extension": ".py",
   "mimetype": "text/x-python",
   "name": "python",
   "nbconvert_exporter": "python",
   "pygments_lexer": "ipython3",
   "version": "3.7.7"
  }
 },
 "nbformat": 4,
 "nbformat_minor": 4
}
