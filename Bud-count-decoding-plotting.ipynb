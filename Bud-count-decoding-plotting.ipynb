{
 "cells": [
  {
   "cell_type": "code",
   "execution_count": 2,
   "metadata": {},
   "outputs": [
    {
     "name": "stdout",
     "output_type": "stream",
     "text": [
      "mkdir: ../jupyter_figures: File exists\n",
      "mkdir: ../data_cleaned: File exists\n"
     ]
    }
   ],
   "source": [
    "import sys, os, glob\n",
    "import numpy as np\n",
    "import pandas as pd\n",
    "import matplotlib\n",
    "import matplotlib.pyplot as plt\n",
    "import seaborn as sns\n",
    "import logging\n",
    "from scipy.interpolate import UnivariateSpline, interp1d\n",
    "from statsmodels.stats.multicomp import pairwise_tukeyhsd, MultiComparison\n",
    "from statsmodels.stats.libqsturng import psturng\n",
    "import scipy.stats as stats\n",
    "\n",
    "# logging.basicConfig(stream=sys.stdout, format='%(asctime)s - %(levelname)s - %(message)s', level=logging.DEBUG)\n",
    "logging.basicConfig(stream=sys.stdout, format='%(asctime)s - %(levelname)s - %(message)s', level=logging.INFO)\n",
    "\n",
    "%matplotlib inline\n",
    "font = {'family' : 'Arial',\n",
    "        'size'   : 7}\n",
    "matplotlib.rc('font', **font)\n",
    "plt.rcParams['svg.fonttype'] = 'none'\n",
    "\n",
    "# Make a folder if it is not already there to store exported figures\n",
    "!mkdir ../jupyter_figures\n",
    "\n",
    "# Make a folder to store cleaned up data frames for more advanced statistical analysis in R.\n",
    "# This is only necessary because exact p values were required by the journal, whereas the\n",
    "# psturng in statsmodels.stats.libqsturng was bound by 0.001 and 0.9.\n",
    "# Practically, nobody really cares about exact p values when p < 0.001 and p > 0.9, but got to get it when asked.\n",
    "!mkdir ../data_cleaned\n"
   ]
  },
  {
   "cell_type": "code",
   "execution_count": 3,
   "metadata": {},
   "outputs": [],
   "source": [
    "def header(f, N=10):\n",
    "    '''Print out the first N lines of a file\n",
    "    '''\n",
    "    with open(f) as myfile:\n",
    "        head = [next(myfile).strip() for x in range(N)]\n",
    "    return '\\n'.join(head)\n",
    "\n",
    "def getCountDF(codingFile, countFile):\n",
    "    '''Read in data from corresponding filename coding and\n",
    "    counting files, merge the data by scrambled filenames,\n",
    "    and returns the merged data frame.\n",
    "    '''\n",
    "    dfCode = pd.read_csv(codingFile, header=0, sep='\\t')\n",
    "    dfCode.columns = ['file_name', 'scrambled_file_name']\n",
    "    dfCount0 = pd.read_csv(countFile, header=0, sep='\\t')\n",
    "    dfCount0.columns = ['scrambled_file_name', 'counts']\n",
    "    dfCount = dfCode.merge(dfCount0, on = 'scrambled_file_name')\n",
    "    return dfCount\n",
    "\n",
    "def getCountDFbyPrefix(datasetPrefix, datasetFolder=None):\n",
    "    '''A convenience function of getCountDF.\n",
    "        Use pattern match to identify the corresponding pair\n",
    "    of filename coding and counting files, then call getCountDF\n",
    "    to obtain the merged data frame.\n",
    "    '''\n",
    "    if datasetFolder is None:\n",
    "        # This is the default folder storing most bud count files\n",
    "        datasetFolder = '../data/Kaz-bud-count-files/'\n",
    "    # Identify the corresponding pair of filename coding and counting files\n",
    "    codingFiles = glob.glob( datasetFolder + datasetPrefix + '*fileNameRecord.txt')\n",
    "    countFiles = glob.glob( datasetFolder + datasetPrefix + '*budCount.txt')\n",
    "\n",
    "    # There should be only one coding file for each data set\n",
    "    codingFile = codingFiles[0]\n",
    "\n",
    "    # There could be multiple count files for each data set,\n",
    "    # which is because sometimes Kaz counts for several times\n",
    "    # to check for counting consistenty. Take the last one.\n",
    "    countFiles.sort()\n",
    "    countFile = countFiles[-1]\n",
    "\n",
    "    # print(header(codingFile))\n",
    "    # print(header(countFile))\n",
    "\n",
    "    df = getCountDF(codingFile, countFile)\n",
    "    \n",
    "    return df\n",
    "\n",
    "def tukeyTest(data, groups, alpha=0.05):\n",
    "    '''Perform pairwise Tukey test for the data by groups\n",
    "    '''\n",
    "    # pairwise comparisons using Tukey's test, calculating p-values\n",
    "    res = pairwise_tukeyhsd(data, groups, alpha)\n",
    "    print('Summary of test:\\n', res)\n",
    "    # print(dir(results))# prints out all attributes of an object\n",
    "    pVal = psturng(np.abs(res.meandiffs / res.std_pairs), len(res.groupsunique), res.df_total)\n",
    "    print('p values of all pair-wise tests:\\n', pVal)\n",
    "\n",
    "    return res\n"
   ]
  },
  {
   "cell_type": "code",
   "execution_count": 145,
   "metadata": {},
   "outputs": [],
   "source": [
    "def plotCountBar(groups, counts, outputFigPath,\n",
    "                 yMax=None, yTicks=None,\n",
    "                 bar_width=0.7,\n",
    "                 fig_width=0.7, fig_height=0.9):\n",
    "    '''plot bar plot of bud counting data, save .svg as outputFigPath\n",
    "    \n",
    "    Note: error bar here is 95% confidence interval by bootstrapping\n",
    "    '''\n",
    "    \n",
    "    fig = plt.figure(figsize=(fig_width,fig_height), dpi=300)\n",
    "    ax = fig.add_axes([0.1, 0.1, 0.8, 0.8])\n",
    "    \n",
    "    sns.barplot(groups, counts,\n",
    "                color=\".7\", # This a nicer looking lighter gray to my own taste\n",
    "                errwidth=.7, errcolor=\"k\", capsize=.2, ci=95)\n",
    "\n",
    "    if yMax == None:\n",
    "        yMax = int(max(counts)/5 + 1) * 5\n",
    "    if yTicks == None:\n",
    "        yTicks = [10*i for i in range(int(max(counts)/10 + 1))]\n",
    "    \n",
    "    plt.ylim(0, yMax)\n",
    "    plt.yticks(yTicks)\n",
    "    \n",
    "    plt.xlabel(\"Groups\")\n",
    "    plt.ylabel(\"Buds per spheroid\")\n",
    "    \n",
    "    # Narrow the bar width\n",
    "    change_bar_width(ax, bar_width)\n",
    "    \n",
    "    for o in fig.findobj():\n",
    "        o.set_clip_on(False)\n",
    "    for o in ax.findobj():\n",
    "        o.set_clip_on(False)\n",
    "\n",
    "    plt.savefig(outputFigPath)\n",
    "    \n",
    "    return ax\n",
    "\n",
    "def change_bar_width(ax, new_value):\n",
    "    for patch in ax.patches :\n",
    "        current_width = patch.get_width()\n",
    "        diff = current_width - new_value\n",
    "\n",
    "        # we change the bar width\n",
    "        patch.set_width(new_value)\n",
    "\n",
    "        # we recenter the bar\n",
    "        patch.set_x(patch.get_x() + diff * .5)"
   ]
  },
  {
   "cell_type": "code",
   "execution_count": 4,
   "metadata": {},
   "outputs": [],
   "source": [
    "# Read in the raw data sets to plot\n",
    "# These are the two experiments with DMSO or ABA treated control or E-cad down spheroids\n",
    "\n",
    "datasetPrefix = \"190926\"\n",
    "df1 = getCountDFbyPrefix(datasetPrefix)\n",
    "\n",
    "datasetPrefix = \"191008\"\n",
    "df2 = getCountDFbyPrefix(datasetPrefix)\n",
    "\n",
    "# Inspect raw data\n",
    "# plt.plot(df1.counts)\n",
    "# plt.plot(df2.counts)"
   ]
  },
  {
   "cell_type": "code",
   "execution_count": 5,
   "metadata": {},
   "outputs": [],
   "source": [
    "# Annotate data sets with the experimental conditions\n",
    "\n",
    "# datasetPrefix: \"190926\"\n",
    "# 88 spheroids in wells A1-H11 (last column not accessible for automated imaging)\n",
    "#\n",
    "# Plate layout:\n",
    "# A1-A6: sg-control, DMSO, ***no MG***\n",
    "# A7-A11: sg-control, ABA, ***no MG***\n",
    "# B1-B6: sg-control, DMSO, MG\n",
    "# B7-B11: sg-control, ABA, MG\n",
    "# C1-C6: sg-control mixed with sg1-Ecad (4:1), DMSO, ***no MG***\n",
    "# C7-C11: sg-control mixed with sg1-Ecad (4:1), ABA, ***no MG***\n",
    "# D1-D11: sg-control mixed with sg1-Ecad (4:1), DMSO, MG\n",
    "# E1-G11: sg-control mixed with sg1-Ecad (4:1), ABA, MG\n",
    "# H1-H11: sg-control mixed with ***sg2-Ecad*** (4:1), ABA, MG\n",
    "#\n",
    "# This set of files contains 6, 5, 11, 33 and 11 samples for groups 1-4 and 6:\n",
    "# Group 1: sg-Control only, DMSO, MG\n",
    "# Group 2: sg-Control only, ABA, MG\n",
    "# Group 3: sg-Control mixed with sg1-Ecad (4:1), DMSO, MG\n",
    "# Group 4: sg-Control mixed with sg1-Ecad (4:1), ABA, MG\n",
    "# Group 6: sg-Control mixed with sg2-Ecad (4:1), ABA, MG\n",
    "groups1 = [\"zzz_ignore\"]*11 + [\"1\"]*6 + [\"2\"]*5 + \\\n",
    "            [\"zzz_ignore\"]*11 + [\"3\"]*11 + [\"4\"]*33 + [\"6\"]*11\n",
    "\n",
    "# print(groups1)\n",
    "\n",
    "\n",
    "# datasetPrefix: \"191008\"\n",
    "# 73 spheroids in wells A1-H11 (last column not accessible for automated imaging)\n",
    "# In addition, B1-B3, D1-D6 and G1-G6 were left out when imaging for fluorescence\n",
    "# because they were treated with blebbistatin and were photo-sensitive.\n",
    "# Y: B4-B6, E1-E6 and H1-H6.\n",
    "#\n",
    "# Plate layout:\n",
    "# A1-A3: sg-control, DMSO, ***no MG***\n",
    "# A4-A6: sg-control, ABA, ***no MG*** \n",
    "# A7-A11: sg-control, DMSO, MG\n",
    "# B4-B6: sg-control, ABA, MG, ***Y27632***\n",
    "# B7-B11: sg-control, ABA, MG\n",
    "# C1-C3: sg-control mixed with sg1-Ecad (4:1), DMSO, ***no MG***\n",
    "# C4-C6: sg-control mixed with sg1-Ecad (4:1), ABA, ***no MG***\n",
    "# C7-C11: sg-control mixed with sg1-Ecad (4:1), DMSO, MG\n",
    "# D7-D11 & E7-E11: sg-control mixed with sg1-Ecad (4:1), ABA, MG\n",
    "# E1-E6: sg-control mixed with sg1-Ecad (4:1), ABA, MG, ***Y27632***\n",
    "# F1-F3: sg-control mixed with sg2-Ecad (4:1), DMSO, ***no MG***\n",
    "# F4-F6: sg-control mixed with sg2-Ecad (4:1), ABA, ***no MG***\n",
    "# F7-F11: sg-control mixed with sg2-Ecad (4:1), DMSO, MG\n",
    "# G7-G11 & H7-H11: sg-control mixed with sg2-Ecad (4:1), ABA, MG\n",
    "# H1-H6: sg-control mixed with sg2-Ecad (4:1), ABA, MG, ***Y27632***\n",
    "#\n",
    "# To sum the ones I need to plot:\n",
    "# Group 1: sg-Control only, DMSO, MG\n",
    "# Group 2: sg-Control only, ABA, MG\n",
    "# Group 3: sg-Control mixed with sg1-Ecad (4:1), DMSO, MG\n",
    "# Group 4: sg-Control mixed with sg1-Ecad (4:1), ABA, MG\n",
    "# Group 5: sg-Control mixed with sg2-Ecad (4:1), DMSO, MG\n",
    "# Group 6: sg-Control mixed with sg2-Ecad (4:1), ABA, MG\n",
    "# Other samples will be annotated \"zzz_ignore\" for the purpose of this plotting\n",
    "groups2 = [\"zzz_ignore\"]*6 + [\"1\"]*5 + [\"zzz_ignore\"]*3 + [\"2\"]*5 + \\\n",
    "        [\"zzz_ignore\"]*6 + [\"3\"]*5 + [\"4\"]*5 + [\"zzz_ignore\"]*6 + [\"4\"]*5 + \\\n",
    "        [\"zzz_ignore\"]*6 + [\"5\"]*5 + [\"6\"]*5 + [\"zzz_ignore\"]*6 + [\"6\"]*5\n"
   ]
  },
  {
   "cell_type": "code",
   "execution_count": 6,
   "metadata": {},
   "outputs": [
    {
     "name": "stdout",
     "output_type": "stream",
     "text": [
      "Summary of test:\n",
      " Multiple Comparison of Means - Tukey HSD, FWER=0.05\n",
      "===================================================\n",
      "group1 group2 meandiff p-adj  lower   upper  reject\n",
      "---------------------------------------------------\n",
      "     1      2  -0.3455   0.9 -7.3301  6.6392  False\n",
      "     1      3   -0.233   0.9 -6.4942  6.0282  False\n",
      "     1      4  15.9894 0.001 10.5881 21.3907   True\n",
      "     2      3   0.1125   0.9 -6.3316  6.5566  False\n",
      "     2      4  16.3349 0.001 10.7226 21.9471   True\n",
      "     3      4  16.2224 0.001 11.5411 20.9037   True\n",
      "---------------------------------------------------\n",
      "p values of all pair-wise tests:\n",
      " [0.9   0.9   0.001 0.9   0.001 0.001]\n"
     ]
    },
    {
     "data": {
      "text/plain": [
       "<statsmodels.sandbox.stats.multicomp.TukeyHSDResults at 0x1035e6410>"
      ]
     },
     "execution_count": 6,
     "metadata": {},
     "output_type": "execute_result"
    }
   ],
   "source": [
    "df = pd.concat([df1,df2])\n",
    "df[\"groups\"] = groups1 + groups2\n",
    "groupsToKeep = [\"1\", \"2\", \"3\", \"4\"]\n",
    "# print(df1and2.groups)\n",
    "dfToPlot = df.loc[df['groups'].isin(groupsToKeep)]\n",
    "\n",
    "# Pass to general df variable to ease the plotting\n",
    "df = dfToPlot\n",
    "df['data_to_compare'] = df.counts\n",
    "df.to_csv('../data_cleaned/' + '190926-191008-dataset-groups1-4-bud-count.csv')\n",
    "# Inspect raw data if curious about how they look\n",
    "# sns.swarmplot(df.groups, df.counts)\n",
    "\n",
    "# Perform a Tukey test across groups\n",
    "tukeyTest(df.counts, df.groups)\n"
   ]
  },
  {
   "cell_type": "code",
   "execution_count": 7,
   "metadata": {
    "scrolled": false
   },
   "outputs": [
    {
     "data": {
      "text/plain": [
       "<matplotlib.axes._axes.Axes at 0x1a17e6cf90>"
      ]
     },
     "execution_count": 7,
     "metadata": {},
     "output_type": "execute_result"
    },
    {
     "data": {
      "image/png": "[encoded data removed]",
      "text/plain": [
       "<Figure size 210x270 with 1 Axes>"
      ]
     },
     "metadata": {
      "needs_background": "light"
     },
     "output_type": "display_data"
    },
    {
     "data": {
      "image/png": "[encoded data removed]",
      "text/plain": [
       "<Figure size 210x270 with 1 Axes>"
      ]
     },
     "metadata": {
      "needs_background": "light"
     },
     "output_type": "display_data"
    }
   ],
   "source": [
    "outputPrefix = \"190916-191008-6dpt-combined-4groups\"\n",
    "outputFigPath = \"../jupyter_figures/\" + outputPrefix + \"-bud-count-taller-bar.svg\"\n",
    "plotCountBar(df.groups, df.counts, outputFigPath, yMax=21, yTicks=[0,10,20], fig_width=0.7, fig_height=0.9)\n",
    "outputPrefix = \"190916-191008-6dpt-combined-4groups\"\n",
    "outputFigPath = \"../jupyter_figures/\" + outputPrefix + \"-bud-count-shorter-bar.svg\"\n",
    "plotCountBar(df.groups, df.counts, outputFigPath, yMax=31, yTicks=[0,10,20,30], fig_width=0.7, fig_height=0.9)\n"
   ]
  },
  {
   "cell_type": "code",
   "execution_count": 8,
   "metadata": {},
   "outputs": [
    {
     "name": "stdout",
     "output_type": "stream",
     "text": [
      "Summary of test:\n",
      "  Multiple Comparison of Means - Tukey HSD, FWER=0.05 \n",
      "=====================================================\n",
      "group1 group2 meandiff p-adj   lower    upper  reject\n",
      "-----------------------------------------------------\n",
      "     1      2  -0.3455    0.9  -8.3623  7.6714  False\n",
      "     1      3   -0.233    0.9  -7.4195  6.9536  False\n",
      "     1      4  15.9894  0.001   9.7899  22.189   True\n",
      "     1      5   2.4545    0.9  -7.4417 12.3508  False\n",
      "     1      6  18.4069  0.001  11.5779  25.236   True\n",
      "     2      3   0.1125    0.9  -7.2839  7.5089  False\n",
      "     2      4  16.3349  0.001   9.8932 22.7765   True\n",
      "     2      5      2.8    0.9  -7.2497 12.8497  False\n",
      "     2      6  18.7524  0.001  11.7028  25.802   True\n",
      "     3      4  16.2224  0.001  10.8493 21.5955   True\n",
      "     3      5   2.6875    0.9  -6.7131 12.0881  False\n",
      "     3      6  18.6399  0.001  12.5512 24.7286   True\n",
      "     4      5 -13.5349  0.001 -22.2044 -4.8654   True\n",
      "     4      6   2.4175 0.6793  -2.4672  7.3022  False\n",
      "     5      6  15.9524  0.001   6.8221 25.0827   True\n",
      "-----------------------------------------------------\n",
      "p values of all pair-wise tests:\n",
      " [0.9        0.9        0.001      0.9        0.001      0.9\n",
      " 0.001      0.9        0.001      0.001      0.9        0.001\n",
      " 0.001      0.67933607 0.001     ]\n"
     ]
    },
    {
     "data": {
      "text/plain": [
       "<statsmodels.sandbox.stats.multicomp.TukeyHSDResults at 0x103688090>"
      ]
     },
     "execution_count": 8,
     "metadata": {},
     "output_type": "execute_result"
    }
   ],
   "source": [
    "df = pd.concat([df1,df2])\n",
    "df[\"groups\"] = groups1 + groups2\n",
    "groupsToKeep = [\"1\", \"2\", \"3\", \"4\", \"5\", \"6\"]\n",
    "# print(df1and2.groups)\n",
    "dfToPlot = df.loc[df['groups'].isin(groupsToKeep)]\n",
    "\n",
    "# Pass to general df variable to ease the plotting\n",
    "df = dfToPlot\n",
    "df['data_to_compare'] = df.counts\n",
    "df.to_csv('../data_cleaned/' + '190926-191008-dataset-groups1-6-bud-count.csv')\n",
    "\n",
    "# Inspect raw data if curious about how they look\n",
    "# sns.swarmplot(df.groups, df.counts)\n",
    "\n",
    "# Perform a Tukey test across groups\n",
    "tukeyTest(df.counts, df.groups)\n"
   ]
  },
  {
   "cell_type": "code",
   "execution_count": 9,
   "metadata": {},
   "outputs": [
    {
     "data": {
      "text/plain": [
       "52    6\n",
       "53    4\n",
       "54    3\n",
       "55    4\n",
       "56    3\n",
       "Name: counts, dtype: int64"
      ]
     },
     "execution_count": 9,
     "metadata": {},
     "output_type": "execute_result"
    }
   ],
   "source": [
    "df.counts[df.groups=='5']"
   ]
  },
  {
   "cell_type": "code",
   "execution_count": 10,
   "metadata": {},
   "outputs": [
    {
     "data": {
      "text/plain": [
       "<matplotlib.axes._axes.Axes at 0x1a17f89690>"
      ]
     },
     "execution_count": 10,
     "metadata": {},
     "output_type": "execute_result"
    },
    {
     "data": {
      "image/png": "[encoded data removed]",
      "text/plain": [
       "<Figure size 450x270 with 1 Axes>"
      ]
     },
     "metadata": {
      "needs_background": "light"
     },
     "output_type": "display_data"
    }
   ],
   "source": [
    "outputPrefix = \"190916-191008-6dpt-combined-6groups\"\n",
    "outputFigPath = \"../jupyter_figures/\" + outputPrefix + \"-bud-count.svg\"\n",
    "plotCountBar(df.groups, df.counts, outputFigPath, yMax=28, yTicks=[0,10,20], fig_width=1.5, fig_height=0.9)\n"
   ]
  },
  {
   "cell_type": "code",
   "execution_count": 11,
   "metadata": {},
   "outputs": [],
   "source": [
    "# Read in the data and put into a data frame\n",
    "datasetPrefix = \"20191219-6dpt-zStack-integrin-activation\"\n",
    "df = getCountDFbyPrefix(datasetPrefix)\n",
    "\n",
    "# Annotate the data set\n",
    "#\n",
    "# The layout of this data set is straightforward.\n",
    "# For integrin activation test, only Matrigel was added (no ABA)\n",
    "# Integrin activation was done by adding 50 uM MnCl2, 10 ug/mL TS2/16 or both\n",
    "#\n",
    "# Group 1, B2-B11: sg-Control only\n",
    "# Group 2, C2-C6: sg-Control only, 50 uM MnCl2\n",
    "# Group 3, C7-C11: sg-Control only, 10 ug/mL TS2/16\n",
    "# Group 4, D2-D11: sg-Control only, 50 uM MnCl2 and 10 ug/mL TS2/16\n",
    "# Group 5, E2-E11: sg-Control mixed with sg2-Ecad (4:1)\n",
    "# Group 6, F2-F6: sg-Control mixed with sg2-Ecad (4:1), 50 uM MnCl2\n",
    "# Group 7, F7-F11: sg-Control mixed with sg2-Ecad (4:1), 10 ug/mL TS2/16\n",
    "# Group 8, G2-G11: sg-Control mixed with sg2-Ecad (4:1), 50 uM MnCl2 and 10 ug/mL TS2/16\n",
    "\n",
    "groups = [\"1\"]*10 + [\"2\"]*5 + [\"3\"]*5 + [\"4\"]*10 +\\\n",
    "            [\"5\"]*10 + [\"6\"]*5 + [\"7\"]*5 + [\"8\"]*10\n",
    "df[\"groups\"] = groups\n",
    "\n",
    "\n",
    "# # Inspect raw data if curious about how they look\n",
    "# sns.swarmplot(df.groups, df.counts)\n",
    "\n",
    "# # Perform a Tukey test across groups\n",
    "# tukeyTest(df.counts, df.groups)"
   ]
  },
  {
   "cell_type": "code",
   "execution_count": 12,
   "metadata": {},
   "outputs": [
    {
     "name": "stdout",
     "output_type": "stream",
     "text": [
      "Summary of test:\n",
      " Multiple Comparison of Means - Tukey HSD, FWER=0.05\n",
      "===================================================\n",
      "group1 group2 meandiff p-adj  lower   upper  reject\n",
      "---------------------------------------------------\n",
      "     1      5      4.0 0.0077 1.0092  6.9908   True\n",
      "     1      6     10.2  0.001 6.5371 13.8629   True\n",
      "     5      6      6.2  0.001 2.5371  9.8629   True\n",
      "---------------------------------------------------\n",
      "p values of all pair-wise tests:\n",
      " [0.00765765 0.001      0.001     ]\n"
     ]
    },
    {
     "data": {
      "text/plain": [
       "<statsmodels.sandbox.stats.multicomp.TukeyHSDResults at 0x1a18113710>"
      ]
     },
     "execution_count": 12,
     "metadata": {},
     "output_type": "execute_result"
    },
    {
     "data": {
      "image/png": "[encoded data removed]",
      "text/plain": [
       "<Figure size 432x288 with 1 Axes>"
      ]
     },
     "metadata": {
      "needs_background": "light"
     },
     "output_type": "display_data"
    }
   ],
   "source": [
    "groupsToKeep = [\"1\", \"5\", \"6\"]\n",
    "dfKeep = df.loc[df['groups'].isin(groupsToKeep)]\n",
    "\n",
    "# Use general df variable to ease the plotting\n",
    "df = dfKeep\n",
    "df['data_to_compare'] = df.counts\n",
    "df.to_csv('../data_cleaned/' + datasetPrefix + '-bud-count.csv')\n",
    "\n",
    "# Inspect raw data if curious about how they look\n",
    "sns.swarmplot(df.groups, df.counts)\n",
    "\n",
    "# Perform a Tukey test across groups\n",
    "tukeyTest(df.counts, df.groups)\n"
   ]
  },
  {
   "cell_type": "code",
   "execution_count": 13,
   "metadata": {},
   "outputs": [
    {
     "data": {
      "text/plain": [
       "<matplotlib.axes._axes.Axes at 0x1a181c3dd0>"
      ]
     },
     "execution_count": 13,
     "metadata": {},
     "output_type": "execute_result"
    },
    {
     "data": {
      "image/png": "[encoded data removed]",
      "text/plain": [
       "<Figure size 120x270 with 1 Axes>"
      ]
     },
     "metadata": {
      "needs_background": "light"
     },
     "output_type": "display_data"
    }
   ],
   "source": [
    "# Plot the bar graph to put in figures\n",
    "outputPrefix = \"191219-6dpt-integrin-activation\"\n",
    "outputFigPath = \"../jupyter_figures/\" + outputPrefix + \"-bud-count.svg\"\n",
    "plotCountBar(df.groups, df.counts, outputFigPath, yMax=25, yTicks=[0,10,20], fig_width=0.4, fig_height=0.9)\n"
   ]
  },
  {
   "cell_type": "code",
   "execution_count": 14,
   "metadata": {},
   "outputs": [
    {
     "name": "stdout",
     "output_type": "stream",
     "text": [
      "Summary of test:\n",
      "  Multiple Comparison of Means - Tukey HSD, FWER=0.05 \n",
      "=====================================================\n",
      "group1 group2 meandiff p-adj  lower    upper   reject\n",
      "-----------------------------------------------------\n",
      "     1      2     -0.6   0.9  -3.6569   2.4569  False\n",
      "     1      3   -19.75 0.001 -22.3973 -17.1027   True\n",
      "     1      4    -19.9 0.001 -22.5473 -17.2527   True\n",
      "     2      3   -19.15 0.001 -21.7973 -16.5027   True\n",
      "     2      4    -19.3 0.001 -21.9473 -16.6527   True\n",
      "     3      4    -0.15   0.9  -2.3115   2.0115  False\n",
      "-----------------------------------------------------\n",
      "p values of all pair-wise tests:\n",
      " [0.9   0.001 0.001 0.001 0.001 0.9  ]\n"
     ]
    },
    {
     "data": {
      "text/plain": [
       "<statsmodels.sandbox.stats.multicomp.TukeyHSDResults at 0x1a18188890>"
      ]
     },
     "execution_count": 14,
     "metadata": {},
     "output_type": "execute_result"
    },
    {
     "data": {
      "image/png": "[encoded data removed]",
      "text/plain": [
       "<Figure size 432x288 with 1 Axes>"
      ]
     },
     "metadata": {
      "needs_background": "light"
     },
     "output_type": "display_data"
    }
   ],
   "source": [
    "# Read in the data and put into a data frame\n",
    "datasetPrefix = \"20191219-6dpt-zStack-D193-D267-D301-D2\"\n",
    "df = getCountDFbyPrefix(datasetPrefix)\n",
    "\n",
    "# Annotate the data set\n",
    "#\n",
    "# The layout of this data set is straightforward.\n",
    "# For integrin co-repression, all spheroids were treated with Matrigel and ABA\n",
    "#\n",
    "# Group 1, B2-B11: sg-control mixed with sg1-Ecad (1:1)\n",
    "# Group 2, C2-C11: sg-Itgb1 mixed with sg1-Ecad (1:1)\n",
    "# Group 3, D2-E11: sg-control mixed with sg1-Ecad/sg-Itgb1 (1:1)\n",
    "# Group 4, F2-G11: sg-Itgb1 mixed with sg1-Ecad/sg-Itgb1 (1:1)\n",
    "groups = [\"1\"]*10 + [\"2\"]*10 + [\"3\"]*20 + [\"4\"]*20\n",
    "df[\"groups\"] = groups\n",
    "\n",
    "df['data_to_compare'] = df.counts\n",
    "df.to_csv('../data_cleaned/' + datasetPrefix + '-bud-count.csv')\n",
    "\n",
    "# Inspect raw data if curious about how they look\n",
    "sns.swarmplot(df.groups, df.counts)\n",
    "\n",
    "# Perform a Tukey test across groups\n",
    "tukeyTest(df.counts, df.groups)\n"
   ]
  },
  {
   "cell_type": "code",
   "execution_count": 15,
   "metadata": {},
   "outputs": [
    {
     "data": {
      "text/plain": [
       "<matplotlib.axes._axes.Axes at 0x1a18538550>"
      ]
     },
     "execution_count": 15,
     "metadata": {},
     "output_type": "execute_result"
    },
    {
     "data": {
      "image/png": "[encoded data removed]",
      "text/plain": [
       "<Figure size 210x270 with 1 Axes>"
      ]
     },
     "metadata": {
      "needs_background": "light"
     },
     "output_type": "display_data"
    }
   ],
   "source": [
    "# Plot the bar graph to put in figures\n",
    "outputPrefix = \"191219-6dpt-D193-D267-D301-D2-\"\n",
    "outputFigPath = \"../jupyter_figures/\" + outputPrefix + \"-bud-count.svg\"\n",
    "plotCountBar(df.groups, df.counts, outputFigPath, yMax=26, yTicks=[0,10,20], fig_width=0.7, fig_height=0.9)\n"
   ]
  },
  {
   "cell_type": "code",
   "execution_count": 16,
   "metadata": {},
   "outputs": [
    {
     "name": "stdout",
     "output_type": "stream",
     "text": [
      "Summary of test:\n",
      "  Multiple Comparison of Means - Tukey HSD, FWER=0.05  \n",
      "======================================================\n",
      "group1 group2 meandiff p-adj   lower    upper   reject\n",
      "------------------------------------------------------\n",
      "     1      2  -4.8889 0.0058  -8.6328   -1.145   True\n",
      "     1      3 -30.1056  0.001 -33.6696 -26.5415   True\n",
      "     1      4 -30.7556  0.001 -34.8354 -26.6757   True\n",
      "     2      3 -25.2167  0.001 -28.2496 -22.1838   True\n",
      "     2      4 -25.8667  0.001 -29.4917 -22.2416   True\n",
      "     3      4    -0.65    0.9   -4.089    2.789  False\n",
      "------------------------------------------------------\n",
      "p values of all pair-wise tests:\n",
      " [0.00576642 0.001      0.001      0.001      0.001      0.9       ]\n"
     ]
    },
    {
     "data": {
      "text/plain": [
       "<statsmodels.sandbox.stats.multicomp.TukeyHSDResults at 0x1a181b1e10>"
      ]
     },
     "execution_count": 16,
     "metadata": {},
     "output_type": "execute_result"
    },
    {
     "data": {
      "image/png": "[encoded data removed]",
      "text/plain": [
       "<Figure size 432x288 with 1 Axes>"
      ]
     },
     "metadata": {
      "needs_background": "light"
     },
     "output_type": "display_data"
    }
   ],
   "source": [
    "# Read in the data and put into a data frame\n",
    "datasetPrefix = \"20191224-6dpt-zStack-D193-D267-D301-D2-integrin-co-modulation-repeat\"\n",
    "df = getCountDFbyPrefix(datasetPrefix)\n",
    "\n",
    "# Annotate the data set\n",
    "#\n",
    "# The layout of this data set is straightforward.\n",
    "# For integrin co-repression, all spheroids were treated with Matrigel and ABA\n",
    "#\n",
    "# Group 1, B2-B11: sg-control mixed with sg1-Ecad (1:1)\n",
    "# Group 2, C2-D11: sg-Itgb1 mixed with sg1-Ecad (1:1)\n",
    "# Group 3, E2-F11: sg-control mixed with sg1-Ecad/sg-Itgb1 (1:1)\n",
    "# Group 4, G2-G11: sg-Itgb1 mixed with sg1-Ecad/sg-Itgb1 (1:1)\n",
    "# ***Note: B4, D2, D6, D7, D9 and D10 images were off-center or off-focus,\n",
    "# so they were removed for segmentation\n",
    "groups = [\"1\"]*9 + [\"2\"]*15 + [\"3\"]*20 + [\"4\"]*10\n",
    "df[\"groups\"] = groups\n",
    "\n",
    "# Inspect raw data if curious about how they look\n",
    "sns.swarmplot(df.groups, df.counts)\n",
    "\n",
    "# Perform a Tukey test across groups\n",
    "tukeyTest(df.counts, df.groups)\n"
   ]
  },
  {
   "cell_type": "code",
   "execution_count": 17,
   "metadata": {},
   "outputs": [
    {
     "data": {
      "text/plain": [
       "<matplotlib.axes._axes.Axes at 0x1a187e0d10>"
      ]
     },
     "execution_count": 17,
     "metadata": {},
     "output_type": "execute_result"
    },
    {
     "data": {
      "image/png": "[encoded data removed]",
      "text/plain": [
       "<Figure size 210x270 with 1 Axes>"
      ]
     },
     "metadata": {
      "needs_background": "light"
     },
     "output_type": "display_data"
    }
   ],
   "source": [
    "# Plot the bar graph to put in figures\n",
    "outputPrefix = \"191224-6dpt-D193-D267-D301-D2-\"\n",
    "outputFigPath = \"../jupyter_figures/\" + outputPrefix + \"-bud-count.svg\"\n",
    "plotCountBar(df.groups, df.counts, outputFigPath, yMax=38, yTicks=[0,10,20,30], fig_width=0.7, fig_height=0.9)\n"
   ]
  },
  {
   "cell_type": "code",
   "execution_count": 18,
   "metadata": {},
   "outputs": [
    {
     "name": "stdout",
     "output_type": "stream",
     "text": [
      "Summary of test:\n",
      " Multiple Comparison of Means - Tukey HSD, FWER=0.05 \n",
      "====================================================\n",
      "group1 group2 meandiff p-adj   lower   upper  reject\n",
      "----------------------------------------------------\n",
      "     1      2     -0.1    0.9  -4.439   4.239  False\n",
      "     1      3      4.6  0.083 -0.4102  9.6102  False\n",
      "     1      4     11.7  0.001   7.361  16.039   True\n",
      "     2      3      4.7 0.0289   0.361   9.039   True\n",
      "     2      4     11.8  0.001  8.2572 15.3428   True\n",
      "     3      4      7.1  0.001   2.761  11.439   True\n",
      "----------------------------------------------------\n",
      "p values of all pair-wise tests:\n",
      " [0.9        0.08295638 0.001      0.02885341 0.001      0.001     ]\n"
     ]
    },
    {
     "data": {
      "text/plain": [
       "<statsmodels.sandbox.stats.multicomp.TukeyHSDResults at 0x1a184234d0>"
      ]
     },
     "execution_count": 18,
     "metadata": {},
     "output_type": "execute_result"
    },
    {
     "data": {
      "image/png": "[encoded data removed]",
      "text/plain": [
       "<Figure size 432x288 with 1 Axes>"
      ]
     },
     "metadata": {
      "needs_background": "light"
     },
     "output_type": "display_data"
    }
   ],
   "source": [
    "# Read in the data and put into a data frame\n",
    "datasetPrefix = \"20200120-6dpt-integrin-activation-MnCl2\"\n",
    "df = getCountDFbyPrefix(datasetPrefix)\n",
    "\n",
    "# Annotate the data set\n",
    "#\n",
    "# The layout of this data set is straightforward.\n",
    "#\n",
    "# Group 1, B2-B11: sg-Control only\n",
    "# Group 2, C2-D11: sg-Control only, 50 uM MnCl2\n",
    "# Group 3, E2-E11: sg-Control mixed with sg2-Ecad (4:1)\n",
    "# Group 4, F2-G6: sg-Control mixed with sg2-Ecad (4:1), 50 uM MnCl2\n",
    "\n",
    "groups = [\"1\"]*10 + [\"2\"]*20 + [\"3\"]*10 + [\"4\"]*20\n",
    "df[\"groups\"] = groups\n",
    "\n",
    "# Inspect raw data if curious about how they look\n",
    "sns.swarmplot(df.groups, df.counts)\n",
    "\n",
    "# Perform a Tukey test across groups\n",
    "tukeyTest(df.counts, df.groups)\n"
   ]
  },
  {
   "cell_type": "code",
   "execution_count": 19,
   "metadata": {},
   "outputs": [
    {
     "name": "stdout",
     "output_type": "stream",
     "text": [
      "Summary of test:\n",
      " Multiple Comparison of Means - Tukey HSD, FWER=0.05 \n",
      "====================================================\n",
      "group1 group2 meandiff p-adj   lower   upper  reject\n",
      "----------------------------------------------------\n",
      "     1      3      4.6 0.1128 -0.8564 10.0564  False\n",
      "     1      4     11.7  0.001  6.9746 16.4254   True\n",
      "     3      4      7.1 0.0022  2.3746 11.8254   True\n",
      "----------------------------------------------------\n",
      "p values of all pair-wise tests:\n",
      " [0.11279151 0.001      0.00215368]\n"
     ]
    },
    {
     "data": {
      "text/plain": [
       "<statsmodels.sandbox.stats.multicomp.TukeyHSDResults at 0x1a18528a90>"
      ]
     },
     "execution_count": 19,
     "metadata": {},
     "output_type": "execute_result"
    },
    {
     "data": {
      "image/png": "[encoded data removed]",
      "text/plain": [
       "<Figure size 432x288 with 1 Axes>"
      ]
     },
     "metadata": {
      "needs_background": "light"
     },
     "output_type": "display_data"
    }
   ],
   "source": [
    "groupsToKeep = [\"1\", \"3\", \"4\"]\n",
    "dfKeep = df.loc[df['groups'].isin(groupsToKeep)]\n",
    "\n",
    "# Use general df variable to ease the plotting\n",
    "df = dfKeep\n",
    "df['data_to_compare'] = df.counts\n",
    "df.to_csv('../data_cleaned/' + datasetPrefix + '-bud-count.csv')\n",
    "\n",
    "# Inspect raw data if curious about how they look\n",
    "sns.swarmplot(df.groups, df.counts)\n",
    "\n",
    "# Perform a Tukey test across groups\n",
    "tukeyTest(df.counts, df.groups)\n"
   ]
  },
  {
   "cell_type": "code",
   "execution_count": 20,
   "metadata": {},
   "outputs": [
    {
     "data": {
      "text/plain": [
       "<matplotlib.axes._axes.Axes at 0x1a1867a710>"
      ]
     },
     "execution_count": 20,
     "metadata": {},
     "output_type": "execute_result"
    },
    {
     "data": {
      "image/png": "[encoded data removed]",
      "text/plain": [
       "<Figure size 150x270 with 1 Axes>"
      ]
     },
     "metadata": {
      "needs_background": "light"
     },
     "output_type": "display_data"
    }
   ],
   "source": [
    "# Plot the bar graph to put in figures\n",
    "outputPrefix = \"20200120-6dpt-integrin-activation-MnCl2\"\n",
    "outputFigPath = \"../jupyter_figures/\" + outputPrefix + \"-bud-count.svg\"\n",
    "plotCountBar(df.groups, df.counts, outputFigPath, yMax=31, yTicks=[0,10,20,30], fig_width=0.5, fig_height=0.9)\n"
   ]
  },
  {
   "cell_type": "code",
   "execution_count": 21,
   "metadata": {},
   "outputs": [
    {
     "name": "stdout",
     "output_type": "stream",
     "text": [
      "Summary of test:\n",
      " Multiple Comparison of Means - Tukey HSD, FWER=0.05 \n",
      "====================================================\n",
      "group1 group2 meandiff p-adj   lower   upper  reject\n",
      "----------------------------------------------------\n",
      "     1      2     5.55 0.2186  -1.978  13.078  False\n",
      "     1      3     10.8 0.0092  2.1074 19.4926   True\n",
      "     1      4     26.4  0.001  18.872  33.928   True\n",
      "     2      3     5.25 0.2629  -2.278  12.778  False\n",
      "     2      4    20.85  0.001 14.7034 26.9966   True\n",
      "     3      4     15.6  0.001   8.072  23.128   True\n",
      "----------------------------------------------------\n",
      "p values of all pair-wise tests:\n",
      " [0.2186398  0.00915167 0.001      0.26292699 0.001      0.001     ]\n"
     ]
    },
    {
     "data": {
      "text/plain": [
       "<statsmodels.sandbox.stats.multicomp.TukeyHSDResults at 0x1a1806e4d0>"
      ]
     },
     "execution_count": 21,
     "metadata": {},
     "output_type": "execute_result"
    },
    {
     "data": {
      "image/png": "[encoded data removed]",
      "text/plain": [
       "<Figure size 432x288 with 1 Axes>"
      ]
     },
     "metadata": {
      "needs_background": "light"
     },
     "output_type": "display_data"
    }
   ],
   "source": [
    "# Read in the data and put into a data frame\n",
    "datasetPrefix = \"20200122-8dpt-integrin-activation-MnCl2\"\n",
    "df = getCountDFbyPrefix(datasetPrefix)\n",
    "\n",
    "# Annotate the data set\n",
    "#\n",
    "# The layout of this data set is straightforward.\n",
    "#\n",
    "# Group 1, B2-B11: sg-Control only\n",
    "# Group 2, C2-D11: sg-Control only, 50 uM MnCl2\n",
    "# Group 3, E2-E11: sg-Control mixed with sg2-Ecad (4:1)\n",
    "# Group 4, F2-G6: sg-Control mixed with sg2-Ecad (4:1), 50 uM MnCl2\n",
    "\n",
    "groups = [\"1\"]*10 + [\"2\"]*20 + [\"3\"]*10 + [\"4\"]*20\n",
    "df[\"groups\"] = groups\n",
    "\n",
    "# Inspect raw data if curious about how they look\n",
    "sns.swarmplot(df.groups, df.counts)\n",
    "\n",
    "# Perform a Tukey test across groups\n",
    "tukeyTest(df.counts, df.groups)\n"
   ]
  },
  {
   "cell_type": "code",
   "execution_count": 22,
   "metadata": {},
   "outputs": [
    {
     "name": "stdout",
     "output_type": "stream",
     "text": [
      "Summary of test:\n",
      " Multiple Comparison of Means - Tukey HSD, FWER=0.05\n",
      "==================================================\n",
      "group1 group2 meandiff p-adj  lower  upper  reject\n",
      "--------------------------------------------------\n",
      "     1      3     10.8 0.0032  3.321 18.279   True\n",
      "     1      4     26.4  0.001 19.923 32.877   True\n",
      "     3      4     15.6  0.001  9.123 22.077   True\n",
      "--------------------------------------------------\n",
      "p values of all pair-wise tests:\n",
      " [0.00321349 0.001      0.001     ]\n"
     ]
    },
    {
     "data": {
      "text/plain": [
       "<statsmodels.sandbox.stats.multicomp.TukeyHSDResults at 0x1a18089c10>"
      ]
     },
     "execution_count": 22,
     "metadata": {},
     "output_type": "execute_result"
    },
    {
     "data": {
      "image/png": "[encoded data removed]",
      "text/plain": [
       "<Figure size 432x288 with 1 Axes>"
      ]
     },
     "metadata": {
      "needs_background": "light"
     },
     "output_type": "display_data"
    }
   ],
   "source": [
    "groupsToKeep = [\"1\", \"3\", \"4\"]\n",
    "dfKeep = df.loc[df['groups'].isin(groupsToKeep)]\n",
    "\n",
    "# Use general df variable to ease the plotting\n",
    "df = dfKeep\n",
    "df['data_to_compare'] = df.counts\n",
    "df.to_csv('../data_cleaned/' + datasetPrefix + '-bud-count.csv')\n",
    "\n",
    "# Inspect raw data if curious about how they look\n",
    "sns.swarmplot(df.groups, df.counts)\n",
    "\n",
    "# Perform a Tukey test across groups\n",
    "tukeyTest(df.counts, df.groups)\n"
   ]
  },
  {
   "cell_type": "code",
   "execution_count": 23,
   "metadata": {},
   "outputs": [
    {
     "data": {
      "text/plain": [
       "<matplotlib.axes._axes.Axes at 0x1a17f119d0>"
      ]
     },
     "execution_count": 23,
     "metadata": {},
     "output_type": "execute_result"
    },
    {
     "data": {
      "image/png": "[encoded data removed]",
      "text/plain": [
       "<Figure size 150x270 with 1 Axes>"
      ]
     },
     "metadata": {
      "needs_background": "light"
     },
     "output_type": "display_data"
    }
   ],
   "source": [
    "# Plot the bar graph to put in figures\n",
    "outputPrefix = \"20200122-8dpt-integrin-activation-MnCl2\"\n",
    "outputFigPath = \"../jupyter_figures/\" + outputPrefix + \"-bud-count.svg\"\n",
    "plotCountBar(df.groups, df.counts, outputFigPath, yMax=38, yTicks=[0,10,20,30], fig_width=0.5, fig_height=0.9)\n"
   ]
  },
  {
   "cell_type": "code",
   "execution_count": 24,
   "metadata": {
    "scrolled": false
   },
   "outputs": [
    {
     "data": {
      "text/plain": [
       "<matplotlib.axes._subplots.AxesSubplot at 0x1a18b7b310>"
      ]
     },
     "execution_count": 24,
     "metadata": {},
     "output_type": "execute_result"
    },
    {
     "data": {
      "image/png": "[encoded data removed]",
      "text/plain": [
       "<Figure size 432x288 with 1 Axes>"
      ]
     },
     "metadata": {
      "needs_background": "light"
     },
     "output_type": "display_data"
    }
   ],
   "source": [
    "# Read in the data and put into a data frame\n",
    "datasetPrefix = \"20200117-0119-collagenase-recovery-tifs\"\n",
    "df = getCountDFbyPrefix(datasetPrefix, datasetFolder='../data/SMG-collagenase-recovery-bud-count-SW/')\n",
    "\n",
    "# Annotate the data set\n",
    "#\n",
    "# Group 1: time 0 of collagenase treatment and recovery group\n",
    "# Group 2: time 0 of control group\n",
    "# Group 3: time 24 h of collagenase treatment and recovery group\n",
    "# Group 4, time 24 h of control group\n",
    "# Group 5: time 48 h of collagenase treatment and recovery group\n",
    "# Group 6, time 48 h of control group\n",
    "groups = [\"1\"]*11 + [\"2\"]*11 + [\"3\"]*11 + [\"4\"]*11 + [\"5\"]*11 + [\"6\"]*11\n",
    "df[\"groups\"] = groups\n",
    "\n",
    "# Groups of treatment\n",
    "treatment = [\"collagenase\"]*11 + [\"control\"]*11 + [\"collagenase\"]*11 + [\"control\"]*11 + [\"collagenase\"]*11 + [\"control\"]*11\n",
    "df[\"treatment\"] = treatment\n",
    "\n",
    "# Time points:\n",
    "time = [0]*22 + [24]*22 + [48]*22\n",
    "df[\"time\"] = time\n",
    "\n",
    "df.shape\n",
    "df.head()\n",
    "\n",
    "# # Inspect raw data if curious about how they look\n",
    "# sns.swarmplot(df.groups, df.counts)\n",
    "# sns.swarmplot(x='time', y='counts', hue='treatment', data=df)\n",
    "sns.barplot(x='time', y='counts', hue='treatment', data=df)\n"
   ]
  },
  {
   "cell_type": "code",
   "execution_count": 25,
   "metadata": {},
   "outputs": [
    {
     "name": "stdout",
     "output_type": "stream",
     "text": [
      "[ 8  3  4  7 10  9  8  3  5 13  7  5  6  5  6  7  9  6  4  5  7  6]\n",
      "[ 3  2  2  4  3  4  2  2  2  4  3 24 24 12 21 25 22 21  6 22 23 13]\n",
      "2020-04-16 09:24:59,254 - INFO - NumExpr defaulting to 8 threads.\n"
     ]
    },
    {
     "data": {
      "text/html": [
       "<div>\n",
       "<style scoped>\n",
       "    .dataframe tbody tr th:only-of-type {\n",
       "        vertical-align: middle;\n",
       "    }\n",
       "\n",
       "    .dataframe tbody tr th {\n",
       "        vertical-align: top;\n",
       "    }\n",
       "\n",
       "    .dataframe thead th {\n",
       "        text-align: right;\n",
       "    }\n",
       "</style>\n",
       "<table border=\"1\" class=\"dataframe\">\n",
       "  <thead>\n",
       "    <tr style=\"text-align: right;\">\n",
       "      <th></th>\n",
       "      <th>file_name</th>\n",
       "      <th>scrambled_file_name</th>\n",
       "      <th>counts</th>\n",
       "      <th>groups</th>\n",
       "      <th>treatment</th>\n",
       "      <th>time</th>\n",
       "      <th>ratio_of_counts</th>\n",
       "      <th>log2ratio_of_counts</th>\n",
       "    </tr>\n",
       "  </thead>\n",
       "  <tbody>\n",
       "    <tr>\n",
       "      <th>0</th>\n",
       "      <td>2020-01-17-collagenase-recovery-collagenase20-...</td>\n",
       "      <td>fb7a7b561c6cc4050adf761be6e9a164.tif</td>\n",
       "      <td>8</td>\n",
       "      <td>1</td>\n",
       "      <td>collagenase</td>\n",
       "      <td>0</td>\n",
       "      <td>1.0</td>\n",
       "      <td>0.0</td>\n",
       "    </tr>\n",
       "    <tr>\n",
       "      <th>1</th>\n",
       "      <td>2020-01-17-collagenase-recovery-collagenase20-...</td>\n",
       "      <td>d3fda32d683844d50390208c78e1f225.tif</td>\n",
       "      <td>3</td>\n",
       "      <td>1</td>\n",
       "      <td>collagenase</td>\n",
       "      <td>0</td>\n",
       "      <td>1.0</td>\n",
       "      <td>0.0</td>\n",
       "    </tr>\n",
       "    <tr>\n",
       "      <th>2</th>\n",
       "      <td>2020-01-17-collagenase-recovery-collagenase20-...</td>\n",
       "      <td>1462cc3b204becb43eeaab1d4740d5e7.tif</td>\n",
       "      <td>4</td>\n",
       "      <td>1</td>\n",
       "      <td>collagenase</td>\n",
       "      <td>0</td>\n",
       "      <td>1.0</td>\n",
       "      <td>0.0</td>\n",
       "    </tr>\n",
       "    <tr>\n",
       "      <th>3</th>\n",
       "      <td>2020-01-17-collagenase-recovery-collagenase20-...</td>\n",
       "      <td>b21ba2f7e1b168a4f1b69f9fb89a542a.tif</td>\n",
       "      <td>7</td>\n",
       "      <td>1</td>\n",
       "      <td>collagenase</td>\n",
       "      <td>0</td>\n",
       "      <td>1.0</td>\n",
       "      <td>0.0</td>\n",
       "    </tr>\n",
       "    <tr>\n",
       "      <th>4</th>\n",
       "      <td>2020-01-17-collagenase-recovery-collagenase20-...</td>\n",
       "      <td>3a4709d440dcdf17f67ce645bf086547.tif</td>\n",
       "      <td>10</td>\n",
       "      <td>1</td>\n",
       "      <td>collagenase</td>\n",
       "      <td>0</td>\n",
       "      <td>1.0</td>\n",
       "      <td>0.0</td>\n",
       "    </tr>\n",
       "  </tbody>\n",
       "</table>\n",
       "</div>"
      ],
      "text/plain": [
       "                                           file_name  \\\n",
       "0  2020-01-17-collagenase-recovery-collagenase20-...   \n",
       "1  2020-01-17-collagenase-recovery-collagenase20-...   \n",
       "2  2020-01-17-collagenase-recovery-collagenase20-...   \n",
       "3  2020-01-17-collagenase-recovery-collagenase20-...   \n",
       "4  2020-01-17-collagenase-recovery-collagenase20-...   \n",
       "\n",
       "                    scrambled_file_name  counts groups    treatment  time  \\\n",
       "0  fb7a7b561c6cc4050adf761be6e9a164.tif       8      1  collagenase     0   \n",
       "1  d3fda32d683844d50390208c78e1f225.tif       3      1  collagenase     0   \n",
       "2  1462cc3b204becb43eeaab1d4740d5e7.tif       4      1  collagenase     0   \n",
       "3  b21ba2f7e1b168a4f1b69f9fb89a542a.tif       7      1  collagenase     0   \n",
       "4  3a4709d440dcdf17f67ce645bf086547.tif      10      1  collagenase     0   \n",
       "\n",
       "   ratio_of_counts  log2ratio_of_counts  \n",
       "0              1.0                  0.0  \n",
       "1              1.0                  0.0  \n",
       "2              1.0                  0.0  \n",
       "3              1.0                  0.0  \n",
       "4              1.0                  0.0  "
      ]
     },
     "execution_count": 25,
     "metadata": {},
     "output_type": "execute_result"
    }
   ],
   "source": [
    "# Normalize data by dividing the counts by the time 0 counts for plotting\n",
    "counts_t0 = df.counts.values[:22]\n",
    "print(counts_t0)\n",
    "counts_t24 = df.counts.values[22:44]\n",
    "print(counts_t24)\n",
    "df['ratio_of_counts'] = df.counts / np.concatenate([counts_t0, counts_t0, counts_t24])\n",
    "df['log2ratio_of_counts'] = np.log2(df.ratio_of_counts)\n",
    "df.head()\n"
   ]
  },
  {
   "cell_type": "code",
   "execution_count": 26,
   "metadata": {},
   "outputs": [
    {
     "data": {
      "image/png": "[encoded data removed]",
      "text/plain": [
       "<Figure size 540x600 with 1 Axes>"
      ]
     },
     "metadata": {
      "needs_background": "light"
     },
     "output_type": "display_data"
    }
   ],
   "source": [
    "# Make swarm plot with error bars for the raw counts\n",
    "\n",
    "fig_width, fig_height = 1.8, 2.0\n",
    "fig = plt.figure(figsize=(fig_width,fig_height), dpi=300)\n",
    "ax = fig.add_axes([0.1, 0.1, 0.8, 0.8])\n",
    "\n",
    "ax = sns.swarmplot(x='groups', y='counts', data=df, size=3, order=['2', '1', '4', '3', '6', '5'])\n",
    "ax = sns.pointplot(x='groups', y='counts', data=df, order=['2', '1', '4', '3', '6', '5'],\n",
    "                   ci=95, capsize=.2, errwidth=.7,\n",
    "                   markers='_', scale=.5, join=False, color=\"Gray\")\n",
    "\n",
    "plt.xlabel(\"Groups\")\n",
    "plt.ylabel(\"Buds per gland\")\n",
    "\n",
    "for o in fig.findobj():\n",
    "    o.set_clip_on(False)\n",
    "for o in ax.findobj():\n",
    "    o.set_clip_on(False)\n",
    "\n",
    "outputFigPath = '../jupyter_figures/' + datasetPrefix + '-bud-count-v0415.svg'\n",
    "plt.savefig(outputFigPath)\n"
   ]
  },
  {
   "cell_type": "code",
   "execution_count": 27,
   "metadata": {},
   "outputs": [
    {
     "data": {
      "image/png": "[encoded data removed]",
      "text/plain": [
       "<Figure size 360x600 with 1 Axes>"
      ]
     },
     "metadata": {
      "needs_background": "light"
     },
     "output_type": "display_data"
    }
   ],
   "source": [
    "# Make swarm plot with error bars for the log2 ratio of counts\n",
    "\n",
    "fig_width, fig_height = 1.2, 2.0\n",
    "fig = plt.figure(figsize=(fig_width,fig_height), dpi=300)\n",
    "ax = fig.add_axes([0.1, 0.1, 0.8, 0.8])\n",
    "\n",
    "ax = sns.swarmplot(x='groups', y='log2ratio_of_counts', data=df, size=3, order=['4', '3', '6', '5'])\n",
    "ax = sns.pointplot(x='groups', y='log2ratio_of_counts', data=df, order=['4', '3', '6', '5'],\n",
    "                   ci=95, capsize=.2, errwidth=.7,\n",
    "                   markers='_', scale=.5, join=False, color=\"Gray\")\n",
    "\n",
    "plt.xlabel(\"Groups\")\n",
    "plt.ylabel(\"Log2(bud ratio)\")\n",
    "ax.set_yticks([-2, 0, 2, 4, 6])\n",
    "\n",
    "for o in fig.findobj():\n",
    "    o.set_clip_on(False)\n",
    "for o in ax.findobj():\n",
    "    o.set_clip_on(False)\n",
    "\n",
    "outputFigPath = '../jupyter_figures/' + datasetPrefix + '-log2-ratio-of-counts-v0415.svg'\n",
    "plt.savefig(outputFigPath)\n"
   ]
  },
  {
   "cell_type": "code",
   "execution_count": 28,
   "metadata": {},
   "outputs": [
    {
     "name": "stdout",
     "output_type": "stream",
     "text": [
      "Summary of test:\n",
      "  Multiple Comparison of Means - Tukey HSD, FWER=0.05 \n",
      "=====================================================\n",
      "group1 group2 meandiff p-adj   lower    upper  reject\n",
      "-----------------------------------------------------\n",
      "     1      2     -1.0    0.9  -11.637   9.637  False\n",
      "     1      3  -4.1818 0.8387 -14.8189  6.4552  False\n",
      "     1      4  12.3636 0.0137   1.7266 23.0007   True\n",
      "     1      5     41.0  0.001   30.363  51.637   True\n",
      "     1      6  62.5455  0.001  51.9084 73.1825   True\n",
      "     2      3  -3.1818    0.9 -13.8189  7.4552  False\n",
      "     2      4  13.3636  0.006   2.7266 24.0007   True\n",
      "     2      5     42.0  0.001   31.363  52.637   True\n",
      "     2      6  63.5455  0.001  52.9084 74.1825   True\n",
      "     3      4  16.5455  0.001   5.9084 27.1825   True\n",
      "     3      5  45.1818  0.001  34.5448 55.8189   True\n",
      "     3      6  66.7273  0.001  56.0902 77.3643   True\n",
      "     4      5  28.6364  0.001  17.9993 39.2734   True\n",
      "     4      6  50.1818  0.001  39.5448 60.8189   True\n",
      "     5      6  21.5455  0.001  10.9084 32.1825   True\n",
      "-----------------------------------------------------\n",
      "p values of all pair-wise tests:\n",
      " [0.9        0.83867427 0.01370476 0.001      0.001      0.9\n",
      " 0.00602139 0.001      0.001      0.001      0.001      0.001\n",
      " 0.001      0.001      0.001     ]\n",
      "Summary of test:\n",
      " Multiple Comparison of Means - Tukey HSD, FWER=0.05\n",
      "===================================================\n",
      "group1 group2 meandiff p-adj  lower   upper  reject\n",
      "---------------------------------------------------\n",
      "     3      4   2.8514 0.001  2.3853  3.3175   True\n",
      "     3      5   5.3447 0.001  4.8785  5.8108   True\n",
      "     3      6   3.1408 0.001  2.6747  3.6069   True\n",
      "     4      5   2.4933 0.001  2.0272  2.9594   True\n",
      "     4      6   0.2894 0.356 -0.1767  0.7555  False\n",
      "     5      6  -2.2039 0.001   -2.67 -1.7378   True\n",
      "---------------------------------------------------\n",
      "p values of all pair-wise tests:\n",
      " [0.001      0.001      0.001      0.001      0.35600227 0.001     ]\n"
     ]
    },
    {
     "data": {
      "text/plain": [
       "<statsmodels.sandbox.stats.multicomp.TukeyHSDResults at 0x1a19266f50>"
      ]
     },
     "execution_count": 28,
     "metadata": {},
     "output_type": "execute_result"
    }
   ],
   "source": [
    "# # Perform a Tukey test of counts across all groups\n",
    "tukeyTest(df.counts, df.groups)\n",
    "\n",
    "# # Perform a Tukey test of log2 ratio of counts across 24h and 48h groups\n",
    "tukeyTest(df.log2ratio_of_counts[22:], df.groups[22:])\n"
   ]
  },
  {
   "cell_type": "code",
   "execution_count": 7,
   "metadata": {},
   "outputs": [],
   "source": [
    "# Bud count data for single bud culture from dissected E13 SMG epithelial rudiments\n",
    "\n",
    "df = pd.read_csv('../data/bud-count-single-bud-single-cell-SMG-culture/20200917-E13epi-K14-RFP-single-bud-zStack-day1-budCount.txt')\n",
    "df.columns = ['file_name', 'bud_count']\n",
    "df['group'] = ['day1'] * len(df)\n",
    "df1 = df\n",
    "\n",
    "df = pd.read_csv('../data/bud-count-single-bud-single-cell-SMG-culture/20200918-E13epi-K14-RFP-single-bud-zStack-day2-budCount.txt')\n",
    "df.columns = ['file_name', 'bud_count']\n",
    "df['group'] = ['day2'] * len(df)\n",
    "df2 = df\n",
    "\n",
    "df = pd.concat([df1, df2])"
   ]
  },
  {
   "cell_type": "code",
   "execution_count": 8,
   "metadata": {},
   "outputs": [
    {
     "data": {
      "text/html": [
       "<div>\n",
       "<style scoped>\n",
       "    .dataframe tbody tr th:only-of-type {\n",
       "        vertical-align: middle;\n",
       "    }\n",
       "\n",
       "    .dataframe tbody tr th {\n",
       "        vertical-align: top;\n",
       "    }\n",
       "\n",
       "    .dataframe thead th {\n",
       "        text-align: right;\n",
       "    }\n",
       "</style>\n",
       "<table border=\"1\" class=\"dataframe\">\n",
       "  <thead>\n",
       "    <tr style=\"text-align: right;\">\n",
       "      <th></th>\n",
       "      <th>file_name</th>\n",
       "      <th>bud_count</th>\n",
       "      <th>group</th>\n",
       "    </tr>\n",
       "  </thead>\n",
       "  <tbody>\n",
       "    <tr>\n",
       "      <th>0</th>\n",
       "      <td>01_01-MG.nd2</td>\n",
       "      <td>6</td>\n",
       "      <td>day1</td>\n",
       "    </tr>\n",
       "    <tr>\n",
       "      <th>1</th>\n",
       "      <td>02_02-MG.nd2</td>\n",
       "      <td>3</td>\n",
       "      <td>day1</td>\n",
       "    </tr>\n",
       "    <tr>\n",
       "      <th>2</th>\n",
       "      <td>03_03-MG.nd2</td>\n",
       "      <td>6</td>\n",
       "      <td>day1</td>\n",
       "    </tr>\n",
       "    <tr>\n",
       "      <th>3</th>\n",
       "      <td>04_04-MG.nd2</td>\n",
       "      <td>5</td>\n",
       "      <td>day1</td>\n",
       "    </tr>\n",
       "    <tr>\n",
       "      <th>4</th>\n",
       "      <td>05_05-MG.nd2</td>\n",
       "      <td>4</td>\n",
       "      <td>day1</td>\n",
       "    </tr>\n",
       "    <tr>\n",
       "      <th>5</th>\n",
       "      <td>06_06-MG.nd2</td>\n",
       "      <td>6</td>\n",
       "      <td>day1</td>\n",
       "    </tr>\n",
       "    <tr>\n",
       "      <th>6</th>\n",
       "      <td>07_07-MG.nd2</td>\n",
       "      <td>7</td>\n",
       "      <td>day1</td>\n",
       "    </tr>\n",
       "    <tr>\n",
       "      <th>7</th>\n",
       "      <td>08_08-MG.nd2</td>\n",
       "      <td>5</td>\n",
       "      <td>day1</td>\n",
       "    </tr>\n",
       "    <tr>\n",
       "      <th>0</th>\n",
       "      <td>01_01-MG.nd2</td>\n",
       "      <td>17</td>\n",
       "      <td>day2</td>\n",
       "    </tr>\n",
       "    <tr>\n",
       "      <th>1</th>\n",
       "      <td>02_02-MG.nd2</td>\n",
       "      <td>13</td>\n",
       "      <td>day2</td>\n",
       "    </tr>\n",
       "    <tr>\n",
       "      <th>2</th>\n",
       "      <td>03_03-MG.nd2</td>\n",
       "      <td>14</td>\n",
       "      <td>day2</td>\n",
       "    </tr>\n",
       "    <tr>\n",
       "      <th>3</th>\n",
       "      <td>04_04-MG.nd2</td>\n",
       "      <td>17</td>\n",
       "      <td>day2</td>\n",
       "    </tr>\n",
       "    <tr>\n",
       "      <th>4</th>\n",
       "      <td>05_05-MG.nd2</td>\n",
       "      <td>14</td>\n",
       "      <td>day2</td>\n",
       "    </tr>\n",
       "    <tr>\n",
       "      <th>5</th>\n",
       "      <td>06_06-MG.nd2</td>\n",
       "      <td>15</td>\n",
       "      <td>day2</td>\n",
       "    </tr>\n",
       "    <tr>\n",
       "      <th>6</th>\n",
       "      <td>07_07-MG.nd2</td>\n",
       "      <td>18</td>\n",
       "      <td>day2</td>\n",
       "    </tr>\n",
       "    <tr>\n",
       "      <th>7</th>\n",
       "      <td>08_08-MG.nd2</td>\n",
       "      <td>18</td>\n",
       "      <td>day2</td>\n",
       "    </tr>\n",
       "  </tbody>\n",
       "</table>\n",
       "</div>"
      ],
      "text/plain": [
       "      file_name  bud_count group\n",
       "0  01_01-MG.nd2          6  day1\n",
       "1  02_02-MG.nd2          3  day1\n",
       "2  03_03-MG.nd2          6  day1\n",
       "3  04_04-MG.nd2          5  day1\n",
       "4  05_05-MG.nd2          4  day1\n",
       "5  06_06-MG.nd2          6  day1\n",
       "6  07_07-MG.nd2          7  day1\n",
       "7  08_08-MG.nd2          5  day1\n",
       "0  01_01-MG.nd2         17  day2\n",
       "1  02_02-MG.nd2         13  day2\n",
       "2  03_03-MG.nd2         14  day2\n",
       "3  04_04-MG.nd2         17  day2\n",
       "4  05_05-MG.nd2         14  day2\n",
       "5  06_06-MG.nd2         15  day2\n",
       "6  07_07-MG.nd2         18  day2\n",
       "7  08_08-MG.nd2         18  day2"
      ]
     },
     "execution_count": 8,
     "metadata": {},
     "output_type": "execute_result"
    }
   ],
   "source": [
    "df"
   ]
  },
  {
   "cell_type": "code",
   "execution_count": 15,
   "metadata": {},
   "outputs": [
    {
     "data": {
      "image/png": "[encoded data removed]",
      "text/plain": [
       "<Figure size 150x270 with 1 Axes>"
      ]
     },
     "metadata": {
      "needs_background": "light"
     },
     "output_type": "display_data"
    }
   ],
   "source": [
    "outputPrefix = '20200916-18-SMG-single-bud-culture-bud-count'\n",
    "outputFigPath = \"../jupyter_figures/\" + outputPrefix + \".svg\"\n",
    "\n",
    "fig_width=0.5\n",
    "fig_height=0.9\n",
    "fig = plt.figure(figsize=(fig_width,fig_height), dpi=300)\n",
    "ax = fig.add_axes([0.1, 0.1, 0.8, 0.8])\n",
    "\n",
    "ax = sns.swarmplot(x='group', y='bud_count', data=df,\n",
    "                   color=\"blue\", size=2.5, alpha=.6)\n",
    "\n",
    "ax = sns.barplot(x='group', y='bud_count', data=df,\n",
    "                 color=\"Gray\", alpha=1.0,\n",
    "                 errwidth=.7, errcolor=\"k\", capsize=.2, ci=95)\n",
    "\n",
    "plt.ylim(0, 22)\n",
    "plt.yticks([0, 10, 20])\n",
    "\n",
    "plt.xlabel(None)\n",
    "plt.ylabel(\"Bud count\")\n",
    "\n",
    "# ax.set_xticklabels(labels=plot_order, rotation=45, ha=\"right\")\n",
    "\n",
    "for o in fig.findobj():\n",
    "    o.set_clip_on(False)\n",
    "for o in ax.findobj():\n",
    "    o.set_clip_on(False)\n",
    "\n",
    "if outputFigPath is not None:\n",
    "    plt.savefig(outputFigPath)\n"
   ]
  },
  {
   "cell_type": "code",
   "execution_count": 16,
   "metadata": {},
   "outputs": [
    {
     "data": {
      "text/html": [
       "<div>\n",
       "<style scoped>\n",
       "    .dataframe tbody tr th:only-of-type {\n",
       "        vertical-align: middle;\n",
       "    }\n",
       "\n",
       "    .dataframe tbody tr th {\n",
       "        vertical-align: top;\n",
       "    }\n",
       "\n",
       "    .dataframe thead th {\n",
       "        text-align: right;\n",
       "    }\n",
       "</style>\n",
       "<table border=\"1\" class=\"dataframe\">\n",
       "  <thead>\n",
       "    <tr style=\"text-align: right;\">\n",
       "      <th></th>\n",
       "      <th>file_name</th>\n",
       "      <th>bud_count</th>\n",
       "      <th>group</th>\n",
       "    </tr>\n",
       "  </thead>\n",
       "  <tbody>\n",
       "    <tr>\n",
       "      <th>0</th>\n",
       "      <td>1.nd2</td>\n",
       "      <td>4</td>\n",
       "      <td>day1</td>\n",
       "    </tr>\n",
       "    <tr>\n",
       "      <th>1</th>\n",
       "      <td>2.nd2</td>\n",
       "      <td>4</td>\n",
       "      <td>day1</td>\n",
       "    </tr>\n",
       "    <tr>\n",
       "      <th>2</th>\n",
       "      <td>3.nd2</td>\n",
       "      <td>5</td>\n",
       "      <td>day1</td>\n",
       "    </tr>\n",
       "    <tr>\n",
       "      <th>3</th>\n",
       "      <td>4.nd2</td>\n",
       "      <td>6</td>\n",
       "      <td>day1</td>\n",
       "    </tr>\n",
       "    <tr>\n",
       "      <th>4</th>\n",
       "      <td>5.nd2</td>\n",
       "      <td>6</td>\n",
       "      <td>day1</td>\n",
       "    </tr>\n",
       "    <tr>\n",
       "      <th>0</th>\n",
       "      <td>1.nd2</td>\n",
       "      <td>15</td>\n",
       "      <td>day2</td>\n",
       "    </tr>\n",
       "    <tr>\n",
       "      <th>1</th>\n",
       "      <td>2.nd2</td>\n",
       "      <td>16</td>\n",
       "      <td>day2</td>\n",
       "    </tr>\n",
       "    <tr>\n",
       "      <th>2</th>\n",
       "      <td>3.nd2</td>\n",
       "      <td>14</td>\n",
       "      <td>day2</td>\n",
       "    </tr>\n",
       "    <tr>\n",
       "      <th>3</th>\n",
       "      <td>4.nd2</td>\n",
       "      <td>14</td>\n",
       "      <td>day2</td>\n",
       "    </tr>\n",
       "    <tr>\n",
       "      <th>4</th>\n",
       "      <td>5.nd2</td>\n",
       "      <td>16</td>\n",
       "      <td>day2</td>\n",
       "    </tr>\n",
       "  </tbody>\n",
       "</table>\n",
       "</div>"
      ],
      "text/plain": [
       "  file_name  bud_count group\n",
       "0     1.nd2          4  day1\n",
       "1     2.nd2          4  day1\n",
       "2     3.nd2          5  day1\n",
       "3     4.nd2          6  day1\n",
       "4     5.nd2          6  day1\n",
       "0     1.nd2         15  day2\n",
       "1     2.nd2         16  day2\n",
       "2     3.nd2         14  day2\n",
       "3     4.nd2         14  day2\n",
       "4     5.nd2         16  day2"
      ]
     },
     "execution_count": 16,
     "metadata": {},
     "output_type": "execute_result"
    }
   ],
   "source": [
    "# Bud count data for single cell culture from dissected E13 SMG epithelial rudiments\n",
    "\n",
    "df = pd.read_csv('../data/bud-count-single-bud-single-cell-SMG-culture/20200919-E13epi-K14-RFP-single-cell-unsorted-zStack-day1-budCount.txt')\n",
    "df.columns = ['file_name', 'bud_count']\n",
    "df['group'] = ['day1'] * len(df)\n",
    "df1 = df\n",
    "\n",
    "df = pd.read_csv('../data/bud-count-single-bud-single-cell-SMG-culture/20200920-E13epi-K14-RFP-single-cell-unsorted-zStack-day2-budCount.txt')\n",
    "df.columns = ['file_name', 'bud_count']\n",
    "df['group'] = ['day2'] * len(df)\n",
    "df2 = df\n",
    "\n",
    "df = pd.concat([df1, df2])\n",
    "df"
   ]
  },
  {
   "cell_type": "code",
   "execution_count": 17,
   "metadata": {},
   "outputs": [
    {
     "data": {
      "image/png": "[encoded data removed]",
      "text/plain": [
       "<Figure size 150x270 with 1 Axes>"
      ]
     },
     "metadata": {
      "needs_background": "light"
     },
     "output_type": "display_data"
    }
   ],
   "source": [
    "outputPrefix = '20200916-18-SMG-single-cell-culture-bud-count'\n",
    "outputFigPath = \"../jupyter_figures/\" + outputPrefix + \".svg\"\n",
    "\n",
    "fig_width=0.5\n",
    "fig_height=0.9\n",
    "fig = plt.figure(figsize=(fig_width,fig_height), dpi=300)\n",
    "ax = fig.add_axes([0.1, 0.1, 0.8, 0.8])\n",
    "\n",
    "ax = sns.swarmplot(x='group', y='bud_count', data=df,\n",
    "                   color=\"blue\", size=2.5, alpha=.6)\n",
    "\n",
    "ax = sns.barplot(x='group', y='bud_count', data=df,\n",
    "                 color=\"Gray\", alpha=1.0,\n",
    "                 errwidth=.7, errcolor=\"k\", capsize=.2, ci=95)\n",
    "\n",
    "plt.ylim(0, 22)\n",
    "plt.yticks([0, 10, 20])\n",
    "\n",
    "plt.xlabel(None)\n",
    "plt.ylabel(\"Bud count\")\n",
    "\n",
    "# ax.set_xticklabels(labels=plot_order, rotation=45, ha=\"right\")\n",
    "\n",
    "for o in fig.findobj():\n",
    "    o.set_clip_on(False)\n",
    "for o in ax.findobj():\n",
    "    o.set_clip_on(False)\n",
    "\n",
    "if outputFigPath is not None:\n",
    "    plt.savefig(outputFigPath)\n"
   ]
  },
  {
   "cell_type": "code",
   "execution_count": 130,
   "metadata": {
    "scrolled": true
   },
   "outputs": [],
   "source": [
    "# This is the combination of 2 data sets of collagenase titration, 20200911-12 and 20200917-18\n",
    "#\n",
    "# Time 2 h\n",
    "df = pd.read_csv('../data/SMG-collagenase-titration-bud-count-SW/20200911-17-E13-SMG-collagenase-titration-t2h-budCount.txt')\n",
    "df1 = df[:-3] # only plot up to 2 ug/mL\n",
    "# Time 24 h\n",
    "df = pd.read_csv('../data/SMG-collagenase-titration-bud-count-SW/20200912-18-E13-SMG-collagenase-titration-t24-budCount.txt')\n",
    "df2 = df[:-3] # only plot up to 2 ug/mL\n",
    "\n",
    "# Designate experimental groups\n",
    "# Groups 1-5: 0, 0.02, 0.2, 2 and 20 µg/mL collagenase for 24 hours\n",
    "# groups = ['1'] * 5 + ['2'] * 5 + ['3'] * 6 + ['4'] * 3 + ['5'] * 3\n",
    "groups = ['1'] * 5 + ['2'] * 5 + ['3'] * 6 + ['4'] * 3\n",
    "\n",
    "# Calculate the bud count ratios\n",
    "ratios = df2['number of buds'] / df1['number of buds']"
   ]
  },
  {
   "cell_type": "code",
   "execution_count": 139,
   "metadata": {},
   "outputs": [
    {
     "data": {
      "image/png": "[encoded data removed]",
      "text/plain": [
       "<Figure size 240x480 with 1 Axes>"
      ]
     },
     "metadata": {
      "needs_background": "light"
     },
     "output_type": "display_data"
    }
   ],
   "source": [
    "# Swarm and bar plot of different collagenase concentrations\n",
    "\n",
    "outputPrefix = '20200911-17-SMG-collagenase-titration-swarm-bar'\n",
    "outputFigPath = \"../jupyter_figures/\" + outputPrefix + \".svg\"\n",
    "\n",
    "fig_width=0.8\n",
    "fig_height=1.6\n",
    "fig = plt.figure(figsize=(fig_width,fig_height), dpi=300)\n",
    "ax = fig.add_axes([0.1, 0.1, 0.8, 0.8])\n",
    "\n",
    "ax = sns.swarmplot(x=groups, y=ratios,\n",
    "                   color=\"blue\",\n",
    "                   size=2.0,\n",
    "                   alpha=.4)\n",
    "\n",
    "ax = sns.barplot(x=groups, y=ratios,\n",
    "                 color=\".7\", alpha=1.0,\n",
    "                 errwidth=.7, errcolor=\"k\", capsize=.2, ci=95)\n",
    "\n",
    "plt.ylim(0, 7)\n",
    "# plt.yticks([0, 10, 20])\n",
    "\n",
    "plt.xlabel(\"Collagenase (µg/mL)\")\n",
    "plt.ylabel(\"Bud ratio 24h / 2h\")\n",
    "\n",
    "# rotate x tick labels if necessary\n",
    "x_labels = ['0', '0.02', '0.2', '2']\n",
    "ax.set_xticklabels(labels=x_labels, rotation=60, ha=\"right\")\n",
    "\n",
    "# make the bar width narrower\n",
    "change_bar_width(ax, .6)\n",
    "\n",
    "for o in fig.findobj():\n",
    "    o.set_clip_on(False)\n",
    "for o in ax.findobj():\n",
    "    o.set_clip_on(False)\n",
    "\n",
    "if outputFigPath is not None:\n",
    "    plt.savefig(outputFigPath)\n"
   ]
  },
  {
   "cell_type": "code",
   "execution_count": 132,
   "metadata": {},
   "outputs": [
    {
     "name": "stdout",
     "output_type": "stream",
     "text": [
      "Summary of test:\n",
      " Multiple Comparison of Means - Tukey HSD, FWER=0.05 \n",
      "====================================================\n",
      "group1 group2 meandiff p-adj   lower   upper  reject\n",
      "----------------------------------------------------\n",
      "     1      2   0.1667    0.9  -1.441  1.7743  False\n",
      "     1      3  -1.1122 0.2033 -2.6514   0.427  False\n",
      "     1      4    -2.04  0.029 -3.8963 -0.1837   True\n",
      "     2      3  -1.2789 0.1211 -2.8181  0.2603  False\n",
      "     2      4  -2.2067 0.0176  -4.063 -0.3503   True\n",
      "     3      4  -0.9278 0.4694 -2.7252  0.8696  False\n",
      "----------------------------------------------------\n",
      "p values of all pair-wise tests:\n",
      " [0.9        0.20326579 0.02904626 0.1210723  0.01758085 0.46938882]\n"
     ]
    },
    {
     "data": {
      "text/plain": [
       "<statsmodels.sandbox.stats.multicomp.TukeyHSDResults at 0x7ffa2f65b350>"
      ]
     },
     "execution_count": 132,
     "metadata": {},
     "output_type": "execute_result"
    }
   ],
   "source": [
    "tukeyTest(ratios, groups)"
   ]
  },
  {
   "cell_type": "code",
   "execution_count": 142,
   "metadata": {},
   "outputs": [],
   "source": [
    "# Read in the data and put into a data frame\n",
    "datasetPrefix = \"20200909-6dpt-D193-D267-1to1-MG-LMN-mix-plate1\"\n",
    "df = getCountDFbyPrefix(datasetPrefix)\n",
    "\n",
    "# Annotate the data set\n",
    "#\n",
    "# All spheroids were 1-to-1 mixture of D193 (sg-Control) and D267 (sg1-Ecad) cells\n",
    "#\n",
    "# Group 1, B2-B11: MG alone\n",
    "# Group 2, C2-C11: 5 MG + 1 LMN\n",
    "# Group 3, D2-D11: 2 MG + 1 LMN\n",
    "# Group 4, D2-D11: 1 MG + 1 LMN\n",
    "# Group 5, E2-E11: 1 MG + 2 LMN\n",
    "# Group 6, E2-E11: 1 MG + 5 LMN\n",
    "groups = [\"1\"]*10 + [\"2\"]*10 + [\"3\"]*10 + [\"4\"]*10 + [\"5\"]*10 + [\"6\"]*10\n",
    "df[\"groups\"] = groups\n",
    "\n",
    "df1 = df\n",
    "\n",
    "\n",
    "# Read in the data and put into a data frame\n",
    "datasetPrefix = \"20200909-6dpt-D193-D267-1to1-MG-LMN-mix-plate2-selected\"\n",
    "df = getCountDFbyPrefix(datasetPrefix)\n",
    "\n",
    "# Annotate the data set\n",
    "#\n",
    "# All spheroids were 1-to-1 mixture of D193 (sg-Control) and D267 (sg1-Ecad) cells\n",
    "#\n",
    "# Group 1, B2-B11: LMN alone\n",
    "# Group 2, C2-C11: MG alone (diluted from 9.7 mg/mL, rather than 6 mg/mL)\n",
    "\n",
    "groups = [\"7\"]*10 + [\"8\"]*10\n",
    "df[\"groups\"] = groups\n",
    "\n",
    "df2 = df\n"
   ]
  },
  {
   "cell_type": "code",
   "execution_count": 143,
   "metadata": {},
   "outputs": [
    {
     "data": {
      "text/html": [
       "<div>\n",
       "<style scoped>\n",
       "    .dataframe tbody tr th:only-of-type {\n",
       "        vertical-align: middle;\n",
       "    }\n",
       "\n",
       "    .dataframe tbody tr th {\n",
       "        vertical-align: top;\n",
       "    }\n",
       "\n",
       "    .dataframe thead th {\n",
       "        text-align: right;\n",
       "    }\n",
       "</style>\n",
       "<table border=\"1\" class=\"dataframe\">\n",
       "  <thead>\n",
       "    <tr style=\"text-align: right;\">\n",
       "      <th></th>\n",
       "      <th>index</th>\n",
       "      <th>file_name</th>\n",
       "      <th>scrambled_file_name</th>\n",
       "      <th>counts</th>\n",
       "      <th>groups</th>\n",
       "    </tr>\n",
       "  </thead>\n",
       "  <tbody>\n",
       "    <tr>\n",
       "      <th>0</th>\n",
       "      <td>0</td>\n",
       "      <td>Plate000_WellB02_ChannelMono,GFP,RFP_Seq0000.nd2</td>\n",
       "      <td>0a7f2b85856b838896920c032b5160db.nd2</td>\n",
       "      <td>9</td>\n",
       "      <td>1</td>\n",
       "    </tr>\n",
       "    <tr>\n",
       "      <th>1</th>\n",
       "      <td>1</td>\n",
       "      <td>Plate000_WellB03_ChannelMono,GFP,RFP_Seq0001.nd2</td>\n",
       "      <td>eae2cf4d0a05e300e586916c4f7fa2c3.nd2</td>\n",
       "      <td>15</td>\n",
       "      <td>1</td>\n",
       "    </tr>\n",
       "    <tr>\n",
       "      <th>2</th>\n",
       "      <td>2</td>\n",
       "      <td>Plate000_WellB04_ChannelMono,GFP,RFP_Seq0002.nd2</td>\n",
       "      <td>30aa897cd645456df633a9a99880504e.nd2</td>\n",
       "      <td>16</td>\n",
       "      <td>1</td>\n",
       "    </tr>\n",
       "    <tr>\n",
       "      <th>3</th>\n",
       "      <td>3</td>\n",
       "      <td>Plate000_WellB05_ChannelMono,GFP,RFP_Seq0003.nd2</td>\n",
       "      <td>cd060b1e55f3c6da837db6df128ad4f7.nd2</td>\n",
       "      <td>16</td>\n",
       "      <td>1</td>\n",
       "    </tr>\n",
       "    <tr>\n",
       "      <th>4</th>\n",
       "      <td>4</td>\n",
       "      <td>Plate000_WellB06_ChannelMono,GFP,RFP_Seq0004.nd2</td>\n",
       "      <td>5980a4022129b02be6773666687f4c1e.nd2</td>\n",
       "      <td>15</td>\n",
       "      <td>1</td>\n",
       "    </tr>\n",
       "    <tr>\n",
       "      <th>...</th>\n",
       "      <td>...</td>\n",
       "      <td>...</td>\n",
       "      <td>...</td>\n",
       "      <td>...</td>\n",
       "      <td>...</td>\n",
       "    </tr>\n",
       "    <tr>\n",
       "      <th>65</th>\n",
       "      <td>5</td>\n",
       "      <td>Plate000_WellB07_ChannelMono,GFP,RFP_Seq0005.nd2</td>\n",
       "      <td>65cd9ac2946125592d8bfb2c72346466.nd2</td>\n",
       "      <td>2</td>\n",
       "      <td>7</td>\n",
       "    </tr>\n",
       "    <tr>\n",
       "      <th>66</th>\n",
       "      <td>6</td>\n",
       "      <td>Plate000_WellB08_ChannelMono,GFP,RFP_Seq0006.nd2</td>\n",
       "      <td>d41a394699e4a508d59fbd3a78d079f2.nd2</td>\n",
       "      <td>4</td>\n",
       "      <td>7</td>\n",
       "    </tr>\n",
       "    <tr>\n",
       "      <th>67</th>\n",
       "      <td>7</td>\n",
       "      <td>Plate000_WellB09_ChannelMono,GFP,RFP_Seq0007.nd2</td>\n",
       "      <td>9f7278d9d4f7c0bfefb866eaff1a1f84.nd2</td>\n",
       "      <td>1</td>\n",
       "      <td>7</td>\n",
       "    </tr>\n",
       "    <tr>\n",
       "      <th>68</th>\n",
       "      <td>8</td>\n",
       "      <td>Plate000_WellB10_ChannelMono,GFP,RFP_Seq0008.nd2</td>\n",
       "      <td>8ad65f4689a0f0f2de3f1e81e67ad8f5.nd2</td>\n",
       "      <td>2</td>\n",
       "      <td>7</td>\n",
       "    </tr>\n",
       "    <tr>\n",
       "      <th>69</th>\n",
       "      <td>9</td>\n",
       "      <td>Plate000_WellB11_ChannelMono,GFP,RFP_Seq0009.nd2</td>\n",
       "      <td>5fc217eb448ca1087451c4d24236cf96.nd2</td>\n",
       "      <td>1</td>\n",
       "      <td>7</td>\n",
       "    </tr>\n",
       "  </tbody>\n",
       "</table>\n",
       "<p>70 rows × 5 columns</p>\n",
       "</div>"
      ],
      "text/plain": [
       "    index                                         file_name  \\\n",
       "0       0  Plate000_WellB02_ChannelMono,GFP,RFP_Seq0000.nd2   \n",
       "1       1  Plate000_WellB03_ChannelMono,GFP,RFP_Seq0001.nd2   \n",
       "2       2  Plate000_WellB04_ChannelMono,GFP,RFP_Seq0002.nd2   \n",
       "3       3  Plate000_WellB05_ChannelMono,GFP,RFP_Seq0003.nd2   \n",
       "4       4  Plate000_WellB06_ChannelMono,GFP,RFP_Seq0004.nd2   \n",
       "..    ...                                               ...   \n",
       "65      5  Plate000_WellB07_ChannelMono,GFP,RFP_Seq0005.nd2   \n",
       "66      6  Plate000_WellB08_ChannelMono,GFP,RFP_Seq0006.nd2   \n",
       "67      7  Plate000_WellB09_ChannelMono,GFP,RFP_Seq0007.nd2   \n",
       "68      8  Plate000_WellB10_ChannelMono,GFP,RFP_Seq0008.nd2   \n",
       "69      9  Plate000_WellB11_ChannelMono,GFP,RFP_Seq0009.nd2   \n",
       "\n",
       "                     scrambled_file_name  counts groups  \n",
       "0   0a7f2b85856b838896920c032b5160db.nd2       9      1  \n",
       "1   eae2cf4d0a05e300e586916c4f7fa2c3.nd2      15      1  \n",
       "2   30aa897cd645456df633a9a99880504e.nd2      16      1  \n",
       "3   cd060b1e55f3c6da837db6df128ad4f7.nd2      16      1  \n",
       "4   5980a4022129b02be6773666687f4c1e.nd2      15      1  \n",
       "..                                   ...     ...    ...  \n",
       "65  65cd9ac2946125592d8bfb2c72346466.nd2       2      7  \n",
       "66  d41a394699e4a508d59fbd3a78d079f2.nd2       4      7  \n",
       "67  9f7278d9d4f7c0bfefb866eaff1a1f84.nd2       1      7  \n",
       "68  8ad65f4689a0f0f2de3f1e81e67ad8f5.nd2       2      7  \n",
       "69  5fc217eb448ca1087451c4d24236cf96.nd2       1      7  \n",
       "\n",
       "[70 rows x 5 columns]"
      ]
     },
     "execution_count": 143,
     "metadata": {},
     "output_type": "execute_result"
    }
   ],
   "source": [
    "# Combine the data for plotting.\n",
    "# Filter out the 10 spheroids in the second plate that uses different Matrigel stock.\n",
    "df = pd.concat([df1, df2.iloc[:10, :]])\n",
    "df.reset_index(inplace=True)\n",
    "\n",
    "df\n",
    "# # Inspect raw data if curious about how they look\n",
    "# sns.swarmplot(df.groups, df.counts)\n",
    "\n",
    "# # Perform a Tukey test across groups\n",
    "# tukeyTest(df.counts, df.groups)\n"
   ]
  },
  {
   "cell_type": "code",
   "execution_count": 144,
   "metadata": {},
   "outputs": [
    {
     "name": "stdout",
     "output_type": "stream",
     "text": [
      "Summary of test:\n",
      "  Multiple Comparison of Means - Tukey HSD, FWER=0.05 \n",
      "=====================================================\n",
      "group1 group2 meandiff p-adj   lower    upper  reject\n",
      "-----------------------------------------------------\n",
      "     1      2     -4.4 0.1044  -9.2845  0.4845  False\n",
      "     1      3     -5.9 0.0084 -10.7845 -1.0155   True\n",
      "     1      4     -7.4  0.001 -12.2845 -2.5155   True\n",
      "     1      5     -9.1  0.001 -13.9845 -4.2155   True\n",
      "     1      6     -9.4  0.001 -14.2845 -4.5155   True\n",
      "     1      7    -11.3  0.001 -16.1845 -6.4155   True\n",
      "     2      3     -1.5    0.9  -6.3845  3.3845  False\n",
      "     2      4     -3.0 0.5057  -7.8845  1.8845  False\n",
      "     2      5     -4.7  0.067  -9.5845  0.1845  False\n",
      "     2      6     -5.0 0.0415  -9.8845 -0.1155   True\n",
      "     2      7     -6.9 0.0011 -11.7845 -2.0155   True\n",
      "     3      4     -1.5    0.9  -6.3845  3.3845  False\n",
      "     3      5     -3.2 0.4301  -8.0845  1.6845  False\n",
      "     3      6     -3.5 0.3196  -8.3845  1.3845  False\n",
      "     3      7     -5.4  0.021 -10.2845 -0.5155   True\n",
      "     4      5     -1.7    0.9  -6.5845  3.1845  False\n",
      "     4      6     -2.0 0.8627  -6.8845  2.8845  False\n",
      "     4      7     -3.9 0.2029  -8.7845  0.9845  False\n",
      "     5      6     -0.3    0.9  -5.1845  4.5845  False\n",
      "     5      7     -2.2 0.7913  -7.0845  2.6845  False\n",
      "     6      7     -1.9 0.8984  -6.7845  2.9845  False\n",
      "-----------------------------------------------------\n",
      "p values of all pair-wise tests:\n",
      " [0.10444461 0.00839722 0.001      0.001      0.001      0.001\n",
      " 0.9        0.50568994 0.06698521 0.0415031  0.0011252  0.9\n",
      " 0.43014502 0.31961221 0.02099116 0.9        0.86268077 0.20288083\n",
      " 0.9        0.79128039 0.89838069]\n"
     ]
    },
    {
     "data": {
      "text/plain": [
       "<statsmodels.sandbox.stats.multicomp.TukeyHSDResults at 0x7ffa4cd41450>"
      ]
     },
     "execution_count": 144,
     "metadata": {},
     "output_type": "execute_result"
    },
    {
     "data": {
      "image/png": "[encoded data removed]",
      "text/plain": [
       "<Figure size 432x288 with 1 Axes>"
      ]
     },
     "metadata": {
      "needs_background": "light"
     },
     "output_type": "display_data"
    }
   ],
   "source": [
    "# bar plot of all groups\n",
    "sns.barplot(df.groups, df.counts)\n",
    "\n",
    "# Inspect raw data if curious about how they look\n",
    "sns.swarmplot(df.groups, df.counts)\n",
    "\n",
    "# Perform a Tukey test across groups\n",
    "tukeyTest(df.counts, df.groups)\n"
   ]
  },
  {
   "cell_type": "code",
   "execution_count": 150,
   "metadata": {},
   "outputs": [
    {
     "data": {
      "text/plain": [
       "<matplotlib.axes._axes.Axes at 0x7ffa4ac87dd0>"
      ]
     },
     "execution_count": 150,
     "metadata": {},
     "output_type": "execute_result"
    },
    {
     "data": {
      "image/png": "[encoded data removed]",
      "text/plain": [
       "<Figure size 270x270 with 1 Axes>"
      ]
     },
     "metadata": {
      "needs_background": "light"
     },
     "output_type": "display_data"
    }
   ],
   "source": [
    "# Plot the bar graph to put in figures\n",
    "outputPrefix = \"20200909-6dpt-D193-D267-1to1-MG-LMN-mix\"\n",
    "outputFigPath = \"../jupyter_figures/\" + outputPrefix + \"-bud-count.svg\"\n",
    "plotCountBar(df.groups, df.counts, outputFigPath,\n",
    "             yMax=21, yTicks=[0,10,20],\n",
    "             bar_width=0.7,\n",
    "             fig_width=0.9, fig_height=0.9)\n"
   ]
  },
  {
   "cell_type": "code",
   "execution_count": null,
   "metadata": {},
   "outputs": [],
   "source": []
  }
 ],
 "metadata": {
  "kernelspec": {
   "display_name": "Python 3",
   "language": "python",
   "name": "python3"
  },
  "language_info": {
   "codemirror_mode": {
    "name": "ipython",
    "version": 3
   },
   "file_extension": ".py",
   "mimetype": "text/x-python",
   "name": "python",
   "nbconvert_exporter": "python",
   "pygments_lexer": "ipython3",
   "version": "3.7.7"
  }
 },
 "nbformat": 4,
 "nbformat_minor": 2
}
